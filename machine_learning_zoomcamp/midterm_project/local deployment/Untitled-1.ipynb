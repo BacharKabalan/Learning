{
 "cells": [
  {
   "cell_type": "markdown",
   "metadata": {},
   "source": [
    "# Introduction\n",
    "\n",
    "This notebook is my midterm project as part of the Machine Learning Zoomcamp by Alexey Grigorev.\n",
    "\n",
    "The content of the notebook is structured as such: \n",
    "\n",
    "[1. Define the problem](#section-1)\n",
    "\n",
    "[2. Undertake EDA](#section-2)  \n",
    "\n",
    "[3. Build the model](#section-3)  \n",
    "\n",
    "[4. Transform to a Web app](#section-4)  \n",
    "\n",
    "[5. Deploy with Docker](#section-5)  \n",
    "\n",
    "[6. Deploy in the Cloud](#section-6)  \n",
    "\n",
    "<div style=\"text-align:center\">\n",
    "\n",
    "![Remote GIF](https://media2.giphy.com/media/LpkBAUDg53FI8xLmg1/giphy.gif)\n",
    "\n",
    "</div>\n",
    "\n"
   ]
  },
  {
   "cell_type": "markdown",
   "metadata": {},
   "source": [
    "<a id=\"section-1\"></a>\n",
    "# [1. Define the problem](#section-1)\n",
    "Why do people resign? This can be important from the employers' perspective as well as the employees': \n",
    "* The HR department may want to estimate their turnover rate based on employee details and characterstics. They may want to know if a certain employee with an important and sensitive role may resign. \n",
    "* From an employee's perspective, they may be struggling with the decision to resign and this could act as a decision support tool. They can insert their details and see what the ML model's outcome is. \n",
    "* I was very curious aboud finding out why people resign. I also thought it would be interesting and useful to build a Machine Learning Model that allows users to input their details and find out if they are likely to resign!! \n",
    "* The dataset I used can be found here: https://www.kaggle.com/code/paramarthasengupta/hr-analytics-prediction-why-do-people-resign/input"
   ]
  },
  {
   "cell_type": "markdown",
   "metadata": {},
   "source": [
    "<a id=\"section-2\"></a>\n",
    "# [2. Undertake EDA](#section-2)\n",
    "\n",
    "Explorative Data Analysis is used to develop my understanding of the data. This will allow me to apply the most appropriate data cleaning and preparation tools as well as gain an understanding of the different features, their relationship with each other as well as their impact on the target varibale: Attrition\n",
    "\n"
   ]
  },
  {
   "cell_type": "code",
   "execution_count": 115,
   "metadata": {},
   "outputs": [],
   "source": [
    "#import libraries\n",
    "import pandas as pd\n",
    "import numpy as np\n",
    "import string\n",
    "from IPython.display import display #provides a nice display of dataframes\n",
    "import matplotlib.pyplot as plt\n",
    "from sklearn.metrics import mutual_info_score #to quantify how much we learn about one variable from  another\n",
    "from sklearn.feature_extraction import DictVectorizer #to encode our raw data into ML model ready data\n",
    "from sklearn.model_selection import train_test_split \n",
    "from sklearn.metrics import auc, roc_auc_score\n",
    "from sklearn.linear_model import LogisticRegression\n",
    "from sklearn.tree import DecisionTreeClassifier\n",
    "from sklearn.ensemble import RandomForestClassifier\n",
    "import xgboost as xgb\n",
    "from sklearn.tree import export_text #allows to which features are decision trees using to split the data\n",
    "import pickle\n",
    "from sklearn.metrics import accuracy_score\n",
    "from IPython.display import clear_output #to clear saved output from using %%capture\n",
    "\n",
    "\n",
    "\n"
   ]
  },
  {
   "cell_type": "code",
   "execution_count": 116,
   "metadata": {},
   "outputs": [],
   "source": [
    "df_original = pd.read_csv('WA_Fn-UseC_-HR-Employee-Attrition.csv')\n",
    "df = df_original.copy()"
   ]
  },
  {
   "cell_type": "code",
   "execution_count": 117,
   "metadata": {},
   "outputs": [
    {
     "name": "stdout",
     "output_type": "stream",
     "text": [
      "<class 'pandas.core.frame.DataFrame'>\n",
      "RangeIndex: 1470 entries, 0 to 1469\n",
      "Data columns (total 35 columns):\n",
      " #   Column                    Non-Null Count  Dtype \n",
      "---  ------                    --------------  ----- \n",
      " 0   Age                       1470 non-null   int64 \n",
      " 1   Attrition                 1470 non-null   object\n",
      " 2   BusinessTravel            1470 non-null   object\n",
      " 3   DailyRate                 1470 non-null   int64 \n",
      " 4   Department                1470 non-null   object\n",
      " 5   DistanceFromHome          1470 non-null   int64 \n",
      " 6   Education                 1470 non-null   int64 \n",
      " 7   EducationField            1470 non-null   object\n",
      " 8   EmployeeCount             1470 non-null   int64 \n",
      " 9   EmployeeNumber            1470 non-null   int64 \n",
      " 10  EnvironmentSatisfaction   1470 non-null   int64 \n",
      " 11  Gender                    1470 non-null   object\n",
      " 12  HourlyRate                1470 non-null   int64 \n",
      " 13  JobInvolvement            1470 non-null   int64 \n",
      " 14  JobLevel                  1470 non-null   int64 \n",
      " 15  JobRole                   1470 non-null   object\n",
      " 16  JobSatisfaction           1470 non-null   int64 \n",
      " 17  MaritalStatus             1470 non-null   object\n",
      " 18  MonthlyIncome             1470 non-null   int64 \n",
      " 19  MonthlyRate               1470 non-null   int64 \n",
      " 20  NumCompaniesWorked        1470 non-null   int64 \n",
      " 21  Over18                    1470 non-null   object\n",
      " 22  OverTime                  1470 non-null   object\n",
      " 23  PercentSalaryHike         1470 non-null   int64 \n",
      " 24  PerformanceRating         1470 non-null   int64 \n",
      " 25  RelationshipSatisfaction  1470 non-null   int64 \n",
      " 26  StandardHours             1470 non-null   int64 \n",
      " 27  StockOptionLevel          1470 non-null   int64 \n",
      " 28  TotalWorkingYears         1470 non-null   int64 \n",
      " 29  TrainingTimesLastYear     1470 non-null   int64 \n",
      " 30  WorkLifeBalance           1470 non-null   int64 \n",
      " 31  YearsAtCompany            1470 non-null   int64 \n",
      " 32  YearsInCurrentRole        1470 non-null   int64 \n",
      " 33  YearsSinceLastPromotion   1470 non-null   int64 \n",
      " 34  YearsWithCurrManager      1470 non-null   int64 \n",
      "dtypes: int64(26), object(9)\n",
      "memory usage: 402.1+ KB\n"
     ]
    }
   ],
   "source": [
    "df.info()"
   ]
  },
  {
   "cell_type": "markdown",
   "metadata": {},
   "source": [
    "There are 1,470 entries. Each entry has 26 int64 features and 9 object ones. Let's check for null entries. "
   ]
  },
  {
   "cell_type": "code",
   "execution_count": 118,
   "metadata": {},
   "outputs": [
    {
     "data": {
      "text/plain": [
       "0"
      ]
     },
     "execution_count": 118,
     "metadata": {},
     "output_type": "execute_result"
    }
   ],
   "source": [
    "df.isnull().sum().sum()"
   ]
  },
  {
   "cell_type": "markdown",
   "metadata": {},
   "source": [
    "That's great as the dataset is already small. \n",
    "\n",
    "Let's inspect the data"
   ]
  },
  {
   "cell_type": "code",
   "execution_count": 119,
   "metadata": {},
   "outputs": [
    {
     "data": {
      "text/html": [
       "<div>\n",
       "<style scoped>\n",
       "    .dataframe tbody tr th:only-of-type {\n",
       "        vertical-align: middle;\n",
       "    }\n",
       "\n",
       "    .dataframe tbody tr th {\n",
       "        vertical-align: top;\n",
       "    }\n",
       "\n",
       "    .dataframe thead th {\n",
       "        text-align: right;\n",
       "    }\n",
       "</style>\n",
       "<table border=\"1\" class=\"dataframe\">\n",
       "  <thead>\n",
       "    <tr style=\"text-align: right;\">\n",
       "      <th></th>\n",
       "      <th>Age</th>\n",
       "      <th>Attrition</th>\n",
       "      <th>BusinessTravel</th>\n",
       "      <th>DailyRate</th>\n",
       "      <th>Department</th>\n",
       "      <th>DistanceFromHome</th>\n",
       "      <th>Education</th>\n",
       "      <th>EducationField</th>\n",
       "      <th>EmployeeCount</th>\n",
       "      <th>EmployeeNumber</th>\n",
       "      <th>...</th>\n",
       "      <th>RelationshipSatisfaction</th>\n",
       "      <th>StandardHours</th>\n",
       "      <th>StockOptionLevel</th>\n",
       "      <th>TotalWorkingYears</th>\n",
       "      <th>TrainingTimesLastYear</th>\n",
       "      <th>WorkLifeBalance</th>\n",
       "      <th>YearsAtCompany</th>\n",
       "      <th>YearsInCurrentRole</th>\n",
       "      <th>YearsSinceLastPromotion</th>\n",
       "      <th>YearsWithCurrManager</th>\n",
       "    </tr>\n",
       "  </thead>\n",
       "  <tbody>\n",
       "    <tr>\n",
       "      <th>0</th>\n",
       "      <td>41</td>\n",
       "      <td>Yes</td>\n",
       "      <td>Travel_Rarely</td>\n",
       "      <td>1102</td>\n",
       "      <td>Sales</td>\n",
       "      <td>1</td>\n",
       "      <td>2</td>\n",
       "      <td>Life Sciences</td>\n",
       "      <td>1</td>\n",
       "      <td>1</td>\n",
       "      <td>...</td>\n",
       "      <td>1</td>\n",
       "      <td>80</td>\n",
       "      <td>0</td>\n",
       "      <td>8</td>\n",
       "      <td>0</td>\n",
       "      <td>1</td>\n",
       "      <td>6</td>\n",
       "      <td>4</td>\n",
       "      <td>0</td>\n",
       "      <td>5</td>\n",
       "    </tr>\n",
       "    <tr>\n",
       "      <th>1</th>\n",
       "      <td>49</td>\n",
       "      <td>No</td>\n",
       "      <td>Travel_Frequently</td>\n",
       "      <td>279</td>\n",
       "      <td>Research &amp; Development</td>\n",
       "      <td>8</td>\n",
       "      <td>1</td>\n",
       "      <td>Life Sciences</td>\n",
       "      <td>1</td>\n",
       "      <td>2</td>\n",
       "      <td>...</td>\n",
       "      <td>4</td>\n",
       "      <td>80</td>\n",
       "      <td>1</td>\n",
       "      <td>10</td>\n",
       "      <td>3</td>\n",
       "      <td>3</td>\n",
       "      <td>10</td>\n",
       "      <td>7</td>\n",
       "      <td>1</td>\n",
       "      <td>7</td>\n",
       "    </tr>\n",
       "    <tr>\n",
       "      <th>2</th>\n",
       "      <td>37</td>\n",
       "      <td>Yes</td>\n",
       "      <td>Travel_Rarely</td>\n",
       "      <td>1373</td>\n",
       "      <td>Research &amp; Development</td>\n",
       "      <td>2</td>\n",
       "      <td>2</td>\n",
       "      <td>Other</td>\n",
       "      <td>1</td>\n",
       "      <td>4</td>\n",
       "      <td>...</td>\n",
       "      <td>2</td>\n",
       "      <td>80</td>\n",
       "      <td>0</td>\n",
       "      <td>7</td>\n",
       "      <td>3</td>\n",
       "      <td>3</td>\n",
       "      <td>0</td>\n",
       "      <td>0</td>\n",
       "      <td>0</td>\n",
       "      <td>0</td>\n",
       "    </tr>\n",
       "    <tr>\n",
       "      <th>3</th>\n",
       "      <td>33</td>\n",
       "      <td>No</td>\n",
       "      <td>Travel_Frequently</td>\n",
       "      <td>1392</td>\n",
       "      <td>Research &amp; Development</td>\n",
       "      <td>3</td>\n",
       "      <td>4</td>\n",
       "      <td>Life Sciences</td>\n",
       "      <td>1</td>\n",
       "      <td>5</td>\n",
       "      <td>...</td>\n",
       "      <td>3</td>\n",
       "      <td>80</td>\n",
       "      <td>0</td>\n",
       "      <td>8</td>\n",
       "      <td>3</td>\n",
       "      <td>3</td>\n",
       "      <td>8</td>\n",
       "      <td>7</td>\n",
       "      <td>3</td>\n",
       "      <td>0</td>\n",
       "    </tr>\n",
       "    <tr>\n",
       "      <th>4</th>\n",
       "      <td>27</td>\n",
       "      <td>No</td>\n",
       "      <td>Travel_Rarely</td>\n",
       "      <td>591</td>\n",
       "      <td>Research &amp; Development</td>\n",
       "      <td>2</td>\n",
       "      <td>1</td>\n",
       "      <td>Medical</td>\n",
       "      <td>1</td>\n",
       "      <td>7</td>\n",
       "      <td>...</td>\n",
       "      <td>4</td>\n",
       "      <td>80</td>\n",
       "      <td>1</td>\n",
       "      <td>6</td>\n",
       "      <td>3</td>\n",
       "      <td>3</td>\n",
       "      <td>2</td>\n",
       "      <td>2</td>\n",
       "      <td>2</td>\n",
       "      <td>2</td>\n",
       "    </tr>\n",
       "  </tbody>\n",
       "</table>\n",
       "<p>5 rows × 35 columns</p>\n",
       "</div>"
      ],
      "text/plain": [
       "   Age Attrition     BusinessTravel  DailyRate              Department  \\\n",
       "0   41       Yes      Travel_Rarely       1102                   Sales   \n",
       "1   49        No  Travel_Frequently        279  Research & Development   \n",
       "2   37       Yes      Travel_Rarely       1373  Research & Development   \n",
       "3   33        No  Travel_Frequently       1392  Research & Development   \n",
       "4   27        No      Travel_Rarely        591  Research & Development   \n",
       "\n",
       "   DistanceFromHome  Education EducationField  EmployeeCount  EmployeeNumber  \\\n",
       "0                 1          2  Life Sciences              1               1   \n",
       "1                 8          1  Life Sciences              1               2   \n",
       "2                 2          2          Other              1               4   \n",
       "3                 3          4  Life Sciences              1               5   \n",
       "4                 2          1        Medical              1               7   \n",
       "\n",
       "   ...  RelationshipSatisfaction StandardHours  StockOptionLevel  \\\n",
       "0  ...                         1            80                 0   \n",
       "1  ...                         4            80                 1   \n",
       "2  ...                         2            80                 0   \n",
       "3  ...                         3            80                 0   \n",
       "4  ...                         4            80                 1   \n",
       "\n",
       "   TotalWorkingYears  TrainingTimesLastYear WorkLifeBalance  YearsAtCompany  \\\n",
       "0                  8                      0               1               6   \n",
       "1                 10                      3               3              10   \n",
       "2                  7                      3               3               0   \n",
       "3                  8                      3               3               8   \n",
       "4                  6                      3               3               2   \n",
       "\n",
       "  YearsInCurrentRole  YearsSinceLastPromotion  YearsWithCurrManager  \n",
       "0                  4                        0                     5  \n",
       "1                  7                        1                     7  \n",
       "2                  0                        0                     0  \n",
       "3                  7                        3                     0  \n",
       "4                  2                        2                     2  \n",
       "\n",
       "[5 rows x 35 columns]"
      ]
     },
     "execution_count": 119,
     "metadata": {},
     "output_type": "execute_result"
    }
   ],
   "source": [
    "df.head()"
   ]
  },
  {
   "cell_type": "markdown",
   "metadata": {},
   "source": [
    "Let us transform some of the variables from numerical to categorical to understand the signficance of the numbers used."
   ]
  },
  {
   "cell_type": "code",
   "execution_count": 120,
   "metadata": {},
   "outputs": [],
   "source": [
    "Education = {1: 'Below College',\n",
    "            2: 'College',\n",
    "            3: 'Bachelor',\n",
    "            4: 'Master',\n",
    "            5: 'Doctor'\n",
    "            }\n",
    "\n",
    "EnvironmentSatisfaction = {\n",
    "1: 'Low',\n",
    "2: 'Medium',\n",
    "3: 'High',\n",
    "4: 'Very High'\n",
    "}\n",
    "\n",
    "JobInvolvement = {\n",
    "1: 'Low',\n",
    "2: 'Medium',\n",
    "3: 'High',\n",
    "4: 'Very High',\n",
    "}\n",
    "\n",
    "\n",
    "JobSatisfaction = {\n",
    "1: 'Low',\n",
    "2: 'Medium',\n",
    "3: 'High',\n",
    "4: 'Very High',\n",
    "}\n",
    "\n",
    "\n",
    "PerformanceRating = {\n",
    "1: 'Low',\n",
    "2: 'Good',\n",
    "3: 'Excellent',\n",
    "4: 'Outstanding'\n",
    "}\n",
    "\n",
    "RelationshipSatisfaction = {\n",
    "1: 'Low',\n",
    "2: 'Medium',\n",
    "3: 'High',\n",
    "4: 'Very High'\n",
    "}\n",
    "\n",
    "WorkLifeBalance = {\n",
    "1: 'Bad',\n",
    "2: 'Good',\n",
    "3: 'Better',\n",
    "4: 'Best'\n",
    "}\n",
    "\n",
    "mapped_features = [Education,EnvironmentSatisfaction,JobInvolvement,JobSatisfaction,PerformanceRating,RelationshipSatisfaction,WorkLifeBalance]\n",
    "\n",
    "mapped_features_names = ['Education','EnvironmentSatisfaction','JobInvolvement','JobSatisfaction','PerformanceRating','RelationshipSatisfaction','WorkLifeBalance']\n",
    "\n",
    "mapped_features = zip(mapped_features_names, mapped_features)\n",
    "for name,value in mapped_features:\n",
    "    df[name] = df[name].map(value)"
   ]
  },
  {
   "cell_type": "code",
   "execution_count": 121,
   "metadata": {},
   "outputs": [],
   "source": [
    "object_columns = list(df.columns[df.dtypes == 'object'].values)\n",
    "numerical_columns = list(df.columns[df.dtypes != 'object'].values)"
   ]
  },
  {
   "cell_type": "code",
   "execution_count": 122,
   "metadata": {},
   "outputs": [],
   "source": [
    "df[object_columns] = df[object_columns].apply(lambda x: x.str.lower().str.replace(' ','_'))"
   ]
  },
  {
   "cell_type": "markdown",
   "metadata": {},
   "source": [
    "Let's check how many unique values the object features have"
   ]
  },
  {
   "cell_type": "code",
   "execution_count": 123,
   "metadata": {},
   "outputs": [
    {
     "data": {
      "text/plain": [
       "Attrition                   2\n",
       "BusinessTravel              3\n",
       "Department                  3\n",
       "Education                   5\n",
       "EducationField              6\n",
       "EnvironmentSatisfaction     4\n",
       "Gender                      2\n",
       "JobInvolvement              4\n",
       "JobRole                     9\n",
       "JobSatisfaction             4\n",
       "MaritalStatus               3\n",
       "Over18                      1\n",
       "OverTime                    2\n",
       "PerformanceRating           2\n",
       "RelationshipSatisfaction    4\n",
       "WorkLifeBalance             4\n",
       "dtype: int64"
      ]
     },
     "execution_count": 123,
     "metadata": {},
     "output_type": "execute_result"
    }
   ],
   "source": [
    "df[object_columns].nunique()"
   ]
  },
  {
   "cell_type": "code",
   "execution_count": 124,
   "metadata": {},
   "outputs": [
    {
     "data": {
      "text/html": [
       "<div>\n",
       "<style scoped>\n",
       "    .dataframe tbody tr th:only-of-type {\n",
       "        vertical-align: middle;\n",
       "    }\n",
       "\n",
       "    .dataframe tbody tr th {\n",
       "        vertical-align: top;\n",
       "    }\n",
       "\n",
       "    .dataframe thead th {\n",
       "        text-align: right;\n",
       "    }\n",
       "</style>\n",
       "<table border=\"1\" class=\"dataframe\">\n",
       "  <thead>\n",
       "    <tr style=\"text-align: right;\">\n",
       "      <th></th>\n",
       "      <th>Age</th>\n",
       "      <th>Attrition</th>\n",
       "      <th>BusinessTravel</th>\n",
       "      <th>DailyRate</th>\n",
       "      <th>Department</th>\n",
       "      <th>DistanceFromHome</th>\n",
       "      <th>Education</th>\n",
       "      <th>EducationField</th>\n",
       "      <th>EmployeeCount</th>\n",
       "      <th>EmployeeNumber</th>\n",
       "      <th>...</th>\n",
       "      <th>RelationshipSatisfaction</th>\n",
       "      <th>StandardHours</th>\n",
       "      <th>StockOptionLevel</th>\n",
       "      <th>TotalWorkingYears</th>\n",
       "      <th>TrainingTimesLastYear</th>\n",
       "      <th>WorkLifeBalance</th>\n",
       "      <th>YearsAtCompany</th>\n",
       "      <th>YearsInCurrentRole</th>\n",
       "      <th>YearsSinceLastPromotion</th>\n",
       "      <th>YearsWithCurrManager</th>\n",
       "    </tr>\n",
       "  </thead>\n",
       "  <tbody>\n",
       "  </tbody>\n",
       "</table>\n",
       "<p>0 rows × 35 columns</p>\n",
       "</div>"
      ],
      "text/plain": [
       "Empty DataFrame\n",
       "Columns: [Age, Attrition, BusinessTravel, DailyRate, Department, DistanceFromHome, Education, EducationField, EmployeeCount, EmployeeNumber, EnvironmentSatisfaction, Gender, HourlyRate, JobInvolvement, JobLevel, JobRole, JobSatisfaction, MaritalStatus, MonthlyIncome, MonthlyRate, NumCompaniesWorked, Over18, OverTime, PercentSalaryHike, PerformanceRating, RelationshipSatisfaction, StandardHours, StockOptionLevel, TotalWorkingYears, TrainingTimesLastYear, WorkLifeBalance, YearsAtCompany, YearsInCurrentRole, YearsSinceLastPromotion, YearsWithCurrManager]\n",
       "Index: []\n",
       "\n",
       "[0 rows x 35 columns]"
      ]
     },
     "execution_count": 124,
     "metadata": {},
     "output_type": "execute_result"
    }
   ],
   "source": [
    "df[df['Over18'] != 'y']"
   ]
  },
  {
   "cell_type": "markdown",
   "metadata": {},
   "source": [
    "Everyone in the dataset is over 18 so let us remove this column."
   ]
  },
  {
   "cell_type": "code",
   "execution_count": 125,
   "metadata": {},
   "outputs": [],
   "source": [
    "df.drop(columns=['Over18'], inplace=True)"
   ]
  },
  {
   "cell_type": "code",
   "execution_count": 126,
   "metadata": {},
   "outputs": [
    {
     "data": {
      "text/plain": [
       "['Attrition',\n",
       " 'BusinessTravel',\n",
       " 'Department',\n",
       " 'Education',\n",
       " 'EducationField',\n",
       " 'EnvironmentSatisfaction',\n",
       " 'Gender',\n",
       " 'JobInvolvement',\n",
       " 'JobRole',\n",
       " 'JobSatisfaction',\n",
       " 'MaritalStatus',\n",
       " 'OverTime',\n",
       " 'PerformanceRating',\n",
       " 'RelationshipSatisfaction',\n",
       " 'WorkLifeBalance']"
      ]
     },
     "execution_count": 126,
     "metadata": {},
     "output_type": "execute_result"
    }
   ],
   "source": [
    "index_over_18 = object_columns.index('Over18')\n",
    "del object_columns[index_over_18]\n",
    "object_columns"
   ]
  },
  {
   "cell_type": "markdown",
   "metadata": {},
   "source": [
    "## 2.1 Feature importance"
   ]
  },
  {
   "cell_type": "markdown",
   "metadata": {},
   "source": [
    "Let's explore the features' impact on the target variable. This is for categorical variables."
   ]
  },
  {
   "cell_type": "code",
   "execution_count": 127,
   "metadata": {},
   "outputs": [],
   "source": [
    "Attrition = {'yes': 1,\n",
    "             'no': 0}\n",
    "\n",
    "df['Attrition'] = df['Attrition'].map(Attrition)\n",
    "global_attrition = df.Attrition.mean()"
   ]
  },
  {
   "cell_type": "markdown",
   "metadata": {},
   "source": [
    "I will compare the avearge attrition grouped by feature. This will tell me if the attrition for a certain feature value is higher or lower then the global average. If the feature value average attrition is higher than the global average, then this feature value has an important impact on attrition. By calculating the ratio, we can get a percetange estimate of this importance, i.e. if the risk is 1.4, then for individuals with this feature value are 40% more likely to resign than the global population."
   ]
  },
  {
   "cell_type": "code",
   "execution_count": 128,
   "metadata": {},
   "outputs": [
    {
     "data": {
      "text/html": [
       "<div>\n",
       "<style scoped>\n",
       "    .dataframe tbody tr th:only-of-type {\n",
       "        vertical-align: middle;\n",
       "    }\n",
       "\n",
       "    .dataframe tbody tr th {\n",
       "        vertical-align: top;\n",
       "    }\n",
       "\n",
       "    .dataframe thead th {\n",
       "        text-align: right;\n",
       "    }\n",
       "</style>\n",
       "<table border=\"1\" class=\"dataframe\">\n",
       "  <thead>\n",
       "    <tr style=\"text-align: right;\">\n",
       "      <th></th>\n",
       "      <th>mean</th>\n",
       "      <th>risk</th>\n",
       "    </tr>\n",
       "    <tr>\n",
       "      <th>Attrition</th>\n",
       "      <th></th>\n",
       "      <th></th>\n",
       "    </tr>\n",
       "  </thead>\n",
       "  <tbody>\n",
       "    <tr>\n",
       "      <th>0</th>\n",
       "      <td>0.0</td>\n",
       "      <td>0.000000</td>\n",
       "    </tr>\n",
       "    <tr>\n",
       "      <th>1</th>\n",
       "      <td>1.0</td>\n",
       "      <td>6.202532</td>\n",
       "    </tr>\n",
       "  </tbody>\n",
       "</table>\n",
       "</div>"
      ],
      "text/plain": [
       "           mean      risk\n",
       "Attrition                \n",
       "0           0.0  0.000000\n",
       "1           1.0  6.202532"
      ]
     },
     "metadata": {},
     "output_type": "display_data"
    },
    {
     "name": "stdout",
     "output_type": "stream",
     "text": [
      "\n",
      "\n"
     ]
    },
    {
     "data": {
      "text/html": [
       "<div>\n",
       "<style scoped>\n",
       "    .dataframe tbody tr th:only-of-type {\n",
       "        vertical-align: middle;\n",
       "    }\n",
       "\n",
       "    .dataframe tbody tr th {\n",
       "        vertical-align: top;\n",
       "    }\n",
       "\n",
       "    .dataframe thead th {\n",
       "        text-align: right;\n",
       "    }\n",
       "</style>\n",
       "<table border=\"1\" class=\"dataframe\">\n",
       "  <thead>\n",
       "    <tr style=\"text-align: right;\">\n",
       "      <th></th>\n",
       "      <th>mean</th>\n",
       "      <th>risk</th>\n",
       "    </tr>\n",
       "    <tr>\n",
       "      <th>BusinessTravel</th>\n",
       "      <th></th>\n",
       "      <th></th>\n",
       "    </tr>\n",
       "  </thead>\n",
       "  <tbody>\n",
       "    <tr>\n",
       "      <th>non-travel</th>\n",
       "      <td>0.080000</td>\n",
       "      <td>0.496203</td>\n",
       "    </tr>\n",
       "    <tr>\n",
       "      <th>travel_frequently</th>\n",
       "      <td>0.249097</td>\n",
       "      <td>1.545035</td>\n",
       "    </tr>\n",
       "    <tr>\n",
       "      <th>travel_rarely</th>\n",
       "      <td>0.149569</td>\n",
       "      <td>0.927704</td>\n",
       "    </tr>\n",
       "  </tbody>\n",
       "</table>\n",
       "</div>"
      ],
      "text/plain": [
       "                       mean      risk\n",
       "BusinessTravel                       \n",
       "non-travel         0.080000  0.496203\n",
       "travel_frequently  0.249097  1.545035\n",
       "travel_rarely      0.149569  0.927704"
      ]
     },
     "metadata": {},
     "output_type": "display_data"
    },
    {
     "name": "stdout",
     "output_type": "stream",
     "text": [
      "\n",
      "\n"
     ]
    },
    {
     "data": {
      "text/html": [
       "<div>\n",
       "<style scoped>\n",
       "    .dataframe tbody tr th:only-of-type {\n",
       "        vertical-align: middle;\n",
       "    }\n",
       "\n",
       "    .dataframe tbody tr th {\n",
       "        vertical-align: top;\n",
       "    }\n",
       "\n",
       "    .dataframe thead th {\n",
       "        text-align: right;\n",
       "    }\n",
       "</style>\n",
       "<table border=\"1\" class=\"dataframe\">\n",
       "  <thead>\n",
       "    <tr style=\"text-align: right;\">\n",
       "      <th></th>\n",
       "      <th>mean</th>\n",
       "      <th>risk</th>\n",
       "    </tr>\n",
       "    <tr>\n",
       "      <th>Department</th>\n",
       "      <th></th>\n",
       "      <th></th>\n",
       "    </tr>\n",
       "  </thead>\n",
       "  <tbody>\n",
       "    <tr>\n",
       "      <th>human_resources</th>\n",
       "      <td>0.190476</td>\n",
       "      <td>1.181435</td>\n",
       "    </tr>\n",
       "    <tr>\n",
       "      <th>research_&amp;_development</th>\n",
       "      <td>0.138398</td>\n",
       "      <td>0.858415</td>\n",
       "    </tr>\n",
       "    <tr>\n",
       "      <th>sales</th>\n",
       "      <td>0.206278</td>\n",
       "      <td>1.279446</td>\n",
       "    </tr>\n",
       "  </tbody>\n",
       "</table>\n",
       "</div>"
      ],
      "text/plain": [
       "                            mean      risk\n",
       "Department                                \n",
       "human_resources         0.190476  1.181435\n",
       "research_&_development  0.138398  0.858415\n",
       "sales                   0.206278  1.279446"
      ]
     },
     "metadata": {},
     "output_type": "display_data"
    },
    {
     "name": "stdout",
     "output_type": "stream",
     "text": [
      "\n",
      "\n"
     ]
    },
    {
     "data": {
      "text/html": [
       "<div>\n",
       "<style scoped>\n",
       "    .dataframe tbody tr th:only-of-type {\n",
       "        vertical-align: middle;\n",
       "    }\n",
       "\n",
       "    .dataframe tbody tr th {\n",
       "        vertical-align: top;\n",
       "    }\n",
       "\n",
       "    .dataframe thead th {\n",
       "        text-align: right;\n",
       "    }\n",
       "</style>\n",
       "<table border=\"1\" class=\"dataframe\">\n",
       "  <thead>\n",
       "    <tr style=\"text-align: right;\">\n",
       "      <th></th>\n",
       "      <th>mean</th>\n",
       "      <th>risk</th>\n",
       "    </tr>\n",
       "    <tr>\n",
       "      <th>Education</th>\n",
       "      <th></th>\n",
       "      <th></th>\n",
       "    </tr>\n",
       "  </thead>\n",
       "  <tbody>\n",
       "    <tr>\n",
       "      <th>bachelor</th>\n",
       "      <td>0.173077</td>\n",
       "      <td>1.073515</td>\n",
       "    </tr>\n",
       "    <tr>\n",
       "      <th>below_college</th>\n",
       "      <td>0.182353</td>\n",
       "      <td>1.131050</td>\n",
       "    </tr>\n",
       "    <tr>\n",
       "      <th>college</th>\n",
       "      <td>0.156028</td>\n",
       "      <td>0.967771</td>\n",
       "    </tr>\n",
       "    <tr>\n",
       "      <th>doctor</th>\n",
       "      <td>0.104167</td>\n",
       "      <td>0.646097</td>\n",
       "    </tr>\n",
       "    <tr>\n",
       "      <th>master</th>\n",
       "      <td>0.145729</td>\n",
       "      <td>0.903887</td>\n",
       "    </tr>\n",
       "  </tbody>\n",
       "</table>\n",
       "</div>"
      ],
      "text/plain": [
       "                   mean      risk\n",
       "Education                        \n",
       "bachelor       0.173077  1.073515\n",
       "below_college  0.182353  1.131050\n",
       "college        0.156028  0.967771\n",
       "doctor         0.104167  0.646097\n",
       "master         0.145729  0.903887"
      ]
     },
     "metadata": {},
     "output_type": "display_data"
    },
    {
     "name": "stdout",
     "output_type": "stream",
     "text": [
      "\n",
      "\n"
     ]
    },
    {
     "data": {
      "text/html": [
       "<div>\n",
       "<style scoped>\n",
       "    .dataframe tbody tr th:only-of-type {\n",
       "        vertical-align: middle;\n",
       "    }\n",
       "\n",
       "    .dataframe tbody tr th {\n",
       "        vertical-align: top;\n",
       "    }\n",
       "\n",
       "    .dataframe thead th {\n",
       "        text-align: right;\n",
       "    }\n",
       "</style>\n",
       "<table border=\"1\" class=\"dataframe\">\n",
       "  <thead>\n",
       "    <tr style=\"text-align: right;\">\n",
       "      <th></th>\n",
       "      <th>mean</th>\n",
       "      <th>risk</th>\n",
       "    </tr>\n",
       "    <tr>\n",
       "      <th>EducationField</th>\n",
       "      <th></th>\n",
       "      <th></th>\n",
       "    </tr>\n",
       "  </thead>\n",
       "  <tbody>\n",
       "    <tr>\n",
       "      <th>human_resources</th>\n",
       "      <td>0.259259</td>\n",
       "      <td>1.608064</td>\n",
       "    </tr>\n",
       "    <tr>\n",
       "      <th>life_sciences</th>\n",
       "      <td>0.146865</td>\n",
       "      <td>0.910933</td>\n",
       "    </tr>\n",
       "    <tr>\n",
       "      <th>marketing</th>\n",
       "      <td>0.220126</td>\n",
       "      <td>1.365337</td>\n",
       "    </tr>\n",
       "    <tr>\n",
       "      <th>medical</th>\n",
       "      <td>0.135776</td>\n",
       "      <td>0.842154</td>\n",
       "    </tr>\n",
       "    <tr>\n",
       "      <th>other</th>\n",
       "      <td>0.134146</td>\n",
       "      <td>0.832047</td>\n",
       "    </tr>\n",
       "    <tr>\n",
       "      <th>technical_degree</th>\n",
       "      <td>0.242424</td>\n",
       "      <td>1.503644</td>\n",
       "    </tr>\n",
       "  </tbody>\n",
       "</table>\n",
       "</div>"
      ],
      "text/plain": [
       "                      mean      risk\n",
       "EducationField                      \n",
       "human_resources   0.259259  1.608064\n",
       "life_sciences     0.146865  0.910933\n",
       "marketing         0.220126  1.365337\n",
       "medical           0.135776  0.842154\n",
       "other             0.134146  0.832047\n",
       "technical_degree  0.242424  1.503644"
      ]
     },
     "metadata": {},
     "output_type": "display_data"
    },
    {
     "name": "stdout",
     "output_type": "stream",
     "text": [
      "\n",
      "\n"
     ]
    },
    {
     "data": {
      "text/html": [
       "<div>\n",
       "<style scoped>\n",
       "    .dataframe tbody tr th:only-of-type {\n",
       "        vertical-align: middle;\n",
       "    }\n",
       "\n",
       "    .dataframe tbody tr th {\n",
       "        vertical-align: top;\n",
       "    }\n",
       "\n",
       "    .dataframe thead th {\n",
       "        text-align: right;\n",
       "    }\n",
       "</style>\n",
       "<table border=\"1\" class=\"dataframe\">\n",
       "  <thead>\n",
       "    <tr style=\"text-align: right;\">\n",
       "      <th></th>\n",
       "      <th>mean</th>\n",
       "      <th>risk</th>\n",
       "    </tr>\n",
       "    <tr>\n",
       "      <th>EnvironmentSatisfaction</th>\n",
       "      <th></th>\n",
       "      <th></th>\n",
       "    </tr>\n",
       "  </thead>\n",
       "  <tbody>\n",
       "    <tr>\n",
       "      <th>high</th>\n",
       "      <td>0.136865</td>\n",
       "      <td>0.848912</td>\n",
       "    </tr>\n",
       "    <tr>\n",
       "      <th>low</th>\n",
       "      <td>0.253521</td>\n",
       "      <td>1.572473</td>\n",
       "    </tr>\n",
       "    <tr>\n",
       "      <th>medium</th>\n",
       "      <td>0.149826</td>\n",
       "      <td>0.929299</td>\n",
       "    </tr>\n",
       "    <tr>\n",
       "      <th>very_high</th>\n",
       "      <td>0.134529</td>\n",
       "      <td>0.834421</td>\n",
       "    </tr>\n",
       "  </tbody>\n",
       "</table>\n",
       "</div>"
      ],
      "text/plain": [
       "                             mean      risk\n",
       "EnvironmentSatisfaction                    \n",
       "high                     0.136865  0.848912\n",
       "low                      0.253521  1.572473\n",
       "medium                   0.149826  0.929299\n",
       "very_high                0.134529  0.834421"
      ]
     },
     "metadata": {},
     "output_type": "display_data"
    },
    {
     "name": "stdout",
     "output_type": "stream",
     "text": [
      "\n",
      "\n"
     ]
    },
    {
     "data": {
      "text/html": [
       "<div>\n",
       "<style scoped>\n",
       "    .dataframe tbody tr th:only-of-type {\n",
       "        vertical-align: middle;\n",
       "    }\n",
       "\n",
       "    .dataframe tbody tr th {\n",
       "        vertical-align: top;\n",
       "    }\n",
       "\n",
       "    .dataframe thead th {\n",
       "        text-align: right;\n",
       "    }\n",
       "</style>\n",
       "<table border=\"1\" class=\"dataframe\">\n",
       "  <thead>\n",
       "    <tr style=\"text-align: right;\">\n",
       "      <th></th>\n",
       "      <th>mean</th>\n",
       "      <th>risk</th>\n",
       "    </tr>\n",
       "    <tr>\n",
       "      <th>Gender</th>\n",
       "      <th></th>\n",
       "      <th></th>\n",
       "    </tr>\n",
       "  </thead>\n",
       "  <tbody>\n",
       "    <tr>\n",
       "      <th>female</th>\n",
       "      <td>0.147959</td>\n",
       "      <td>0.917722</td>\n",
       "    </tr>\n",
       "    <tr>\n",
       "      <th>male</th>\n",
       "      <td>0.170068</td>\n",
       "      <td>1.054852</td>\n",
       "    </tr>\n",
       "  </tbody>\n",
       "</table>\n",
       "</div>"
      ],
      "text/plain": [
       "            mean      risk\n",
       "Gender                    \n",
       "female  0.147959  0.917722\n",
       "male    0.170068  1.054852"
      ]
     },
     "metadata": {},
     "output_type": "display_data"
    },
    {
     "name": "stdout",
     "output_type": "stream",
     "text": [
      "\n",
      "\n"
     ]
    },
    {
     "data": {
      "text/html": [
       "<div>\n",
       "<style scoped>\n",
       "    .dataframe tbody tr th:only-of-type {\n",
       "        vertical-align: middle;\n",
       "    }\n",
       "\n",
       "    .dataframe tbody tr th {\n",
       "        vertical-align: top;\n",
       "    }\n",
       "\n",
       "    .dataframe thead th {\n",
       "        text-align: right;\n",
       "    }\n",
       "</style>\n",
       "<table border=\"1\" class=\"dataframe\">\n",
       "  <thead>\n",
       "    <tr style=\"text-align: right;\">\n",
       "      <th></th>\n",
       "      <th>mean</th>\n",
       "      <th>risk</th>\n",
       "    </tr>\n",
       "    <tr>\n",
       "      <th>JobInvolvement</th>\n",
       "      <th></th>\n",
       "      <th></th>\n",
       "    </tr>\n",
       "  </thead>\n",
       "  <tbody>\n",
       "    <tr>\n",
       "      <th>high</th>\n",
       "      <td>0.144009</td>\n",
       "      <td>0.893222</td>\n",
       "    </tr>\n",
       "    <tr>\n",
       "      <th>low</th>\n",
       "      <td>0.337349</td>\n",
       "      <td>2.092420</td>\n",
       "    </tr>\n",
       "    <tr>\n",
       "      <th>medium</th>\n",
       "      <td>0.189333</td>\n",
       "      <td>1.174346</td>\n",
       "    </tr>\n",
       "    <tr>\n",
       "      <th>very_high</th>\n",
       "      <td>0.090278</td>\n",
       "      <td>0.559951</td>\n",
       "    </tr>\n",
       "  </tbody>\n",
       "</table>\n",
       "</div>"
      ],
      "text/plain": [
       "                    mean      risk\n",
       "JobInvolvement                    \n",
       "high            0.144009  0.893222\n",
       "low             0.337349  2.092420\n",
       "medium          0.189333  1.174346\n",
       "very_high       0.090278  0.559951"
      ]
     },
     "metadata": {},
     "output_type": "display_data"
    },
    {
     "name": "stdout",
     "output_type": "stream",
     "text": [
      "\n",
      "\n"
     ]
    },
    {
     "data": {
      "text/html": [
       "<div>\n",
       "<style scoped>\n",
       "    .dataframe tbody tr th:only-of-type {\n",
       "        vertical-align: middle;\n",
       "    }\n",
       "\n",
       "    .dataframe tbody tr th {\n",
       "        vertical-align: top;\n",
       "    }\n",
       "\n",
       "    .dataframe thead th {\n",
       "        text-align: right;\n",
       "    }\n",
       "</style>\n",
       "<table border=\"1\" class=\"dataframe\">\n",
       "  <thead>\n",
       "    <tr style=\"text-align: right;\">\n",
       "      <th></th>\n",
       "      <th>mean</th>\n",
       "      <th>risk</th>\n",
       "    </tr>\n",
       "    <tr>\n",
       "      <th>JobRole</th>\n",
       "      <th></th>\n",
       "      <th></th>\n",
       "    </tr>\n",
       "  </thead>\n",
       "  <tbody>\n",
       "    <tr>\n",
       "      <th>healthcare_representative</th>\n",
       "      <td>0.068702</td>\n",
       "      <td>0.426128</td>\n",
       "    </tr>\n",
       "    <tr>\n",
       "      <th>human_resources</th>\n",
       "      <td>0.230769</td>\n",
       "      <td>1.431353</td>\n",
       "    </tr>\n",
       "    <tr>\n",
       "      <th>laboratory_technician</th>\n",
       "      <td>0.239382</td>\n",
       "      <td>1.484776</td>\n",
       "    </tr>\n",
       "    <tr>\n",
       "      <th>manager</th>\n",
       "      <td>0.049020</td>\n",
       "      <td>0.304046</td>\n",
       "    </tr>\n",
       "    <tr>\n",
       "      <th>manufacturing_director</th>\n",
       "      <td>0.068966</td>\n",
       "      <td>0.427761</td>\n",
       "    </tr>\n",
       "    <tr>\n",
       "      <th>research_director</th>\n",
       "      <td>0.025000</td>\n",
       "      <td>0.155063</td>\n",
       "    </tr>\n",
       "    <tr>\n",
       "      <th>research_scientist</th>\n",
       "      <td>0.160959</td>\n",
       "      <td>0.998353</td>\n",
       "    </tr>\n",
       "    <tr>\n",
       "      <th>sales_executive</th>\n",
       "      <td>0.174847</td>\n",
       "      <td>1.084492</td>\n",
       "    </tr>\n",
       "    <tr>\n",
       "      <th>sales_representative</th>\n",
       "      <td>0.397590</td>\n",
       "      <td>2.466067</td>\n",
       "    </tr>\n",
       "  </tbody>\n",
       "</table>\n",
       "</div>"
      ],
      "text/plain": [
       "                               mean      risk\n",
       "JobRole                                      \n",
       "healthcare_representative  0.068702  0.426128\n",
       "human_resources            0.230769  1.431353\n",
       "laboratory_technician      0.239382  1.484776\n",
       "manager                    0.049020  0.304046\n",
       "manufacturing_director     0.068966  0.427761\n",
       "research_director          0.025000  0.155063\n",
       "research_scientist         0.160959  0.998353\n",
       "sales_executive            0.174847  1.084492\n",
       "sales_representative       0.397590  2.466067"
      ]
     },
     "metadata": {},
     "output_type": "display_data"
    },
    {
     "name": "stdout",
     "output_type": "stream",
     "text": [
      "\n",
      "\n"
     ]
    },
    {
     "data": {
      "text/html": [
       "<div>\n",
       "<style scoped>\n",
       "    .dataframe tbody tr th:only-of-type {\n",
       "        vertical-align: middle;\n",
       "    }\n",
       "\n",
       "    .dataframe tbody tr th {\n",
       "        vertical-align: top;\n",
       "    }\n",
       "\n",
       "    .dataframe thead th {\n",
       "        text-align: right;\n",
       "    }\n",
       "</style>\n",
       "<table border=\"1\" class=\"dataframe\">\n",
       "  <thead>\n",
       "    <tr style=\"text-align: right;\">\n",
       "      <th></th>\n",
       "      <th>mean</th>\n",
       "      <th>risk</th>\n",
       "    </tr>\n",
       "    <tr>\n",
       "      <th>JobSatisfaction</th>\n",
       "      <th></th>\n",
       "      <th></th>\n",
       "    </tr>\n",
       "  </thead>\n",
       "  <tbody>\n",
       "    <tr>\n",
       "      <th>high</th>\n",
       "      <td>0.165158</td>\n",
       "      <td>1.024400</td>\n",
       "    </tr>\n",
       "    <tr>\n",
       "      <th>low</th>\n",
       "      <td>0.228374</td>\n",
       "      <td>1.416495</td>\n",
       "    </tr>\n",
       "    <tr>\n",
       "      <th>medium</th>\n",
       "      <td>0.164286</td>\n",
       "      <td>1.018987</td>\n",
       "    </tr>\n",
       "    <tr>\n",
       "      <th>very_high</th>\n",
       "      <td>0.113290</td>\n",
       "      <td>0.702683</td>\n",
       "    </tr>\n",
       "  </tbody>\n",
       "</table>\n",
       "</div>"
      ],
      "text/plain": [
       "                     mean      risk\n",
       "JobSatisfaction                    \n",
       "high             0.165158  1.024400\n",
       "low              0.228374  1.416495\n",
       "medium           0.164286  1.018987\n",
       "very_high        0.113290  0.702683"
      ]
     },
     "metadata": {},
     "output_type": "display_data"
    },
    {
     "name": "stdout",
     "output_type": "stream",
     "text": [
      "\n",
      "\n"
     ]
    },
    {
     "data": {
      "text/html": [
       "<div>\n",
       "<style scoped>\n",
       "    .dataframe tbody tr th:only-of-type {\n",
       "        vertical-align: middle;\n",
       "    }\n",
       "\n",
       "    .dataframe tbody tr th {\n",
       "        vertical-align: top;\n",
       "    }\n",
       "\n",
       "    .dataframe thead th {\n",
       "        text-align: right;\n",
       "    }\n",
       "</style>\n",
       "<table border=\"1\" class=\"dataframe\">\n",
       "  <thead>\n",
       "    <tr style=\"text-align: right;\">\n",
       "      <th></th>\n",
       "      <th>mean</th>\n",
       "      <th>risk</th>\n",
       "    </tr>\n",
       "    <tr>\n",
       "      <th>MaritalStatus</th>\n",
       "      <th></th>\n",
       "      <th></th>\n",
       "    </tr>\n",
       "  </thead>\n",
       "  <tbody>\n",
       "    <tr>\n",
       "      <th>divorced</th>\n",
       "      <td>0.100917</td>\n",
       "      <td>0.625944</td>\n",
       "    </tr>\n",
       "    <tr>\n",
       "      <th>married</th>\n",
       "      <td>0.124814</td>\n",
       "      <td>0.774164</td>\n",
       "    </tr>\n",
       "    <tr>\n",
       "      <th>single</th>\n",
       "      <td>0.255319</td>\n",
       "      <td>1.583625</td>\n",
       "    </tr>\n",
       "  </tbody>\n",
       "</table>\n",
       "</div>"
      ],
      "text/plain": [
       "                   mean      risk\n",
       "MaritalStatus                    \n",
       "divorced       0.100917  0.625944\n",
       "married        0.124814  0.774164\n",
       "single         0.255319  1.583625"
      ]
     },
     "metadata": {},
     "output_type": "display_data"
    },
    {
     "name": "stdout",
     "output_type": "stream",
     "text": [
      "\n",
      "\n"
     ]
    },
    {
     "data": {
      "text/html": [
       "<div>\n",
       "<style scoped>\n",
       "    .dataframe tbody tr th:only-of-type {\n",
       "        vertical-align: middle;\n",
       "    }\n",
       "\n",
       "    .dataframe tbody tr th {\n",
       "        vertical-align: top;\n",
       "    }\n",
       "\n",
       "    .dataframe thead th {\n",
       "        text-align: right;\n",
       "    }\n",
       "</style>\n",
       "<table border=\"1\" class=\"dataframe\">\n",
       "  <thead>\n",
       "    <tr style=\"text-align: right;\">\n",
       "      <th></th>\n",
       "      <th>mean</th>\n",
       "      <th>risk</th>\n",
       "    </tr>\n",
       "    <tr>\n",
       "      <th>OverTime</th>\n",
       "      <th></th>\n",
       "      <th></th>\n",
       "    </tr>\n",
       "  </thead>\n",
       "  <tbody>\n",
       "    <tr>\n",
       "      <th>no</th>\n",
       "      <td>0.104364</td>\n",
       "      <td>0.647323</td>\n",
       "    </tr>\n",
       "    <tr>\n",
       "      <th>yes</th>\n",
       "      <td>0.305288</td>\n",
       "      <td>1.893561</td>\n",
       "    </tr>\n",
       "  </tbody>\n",
       "</table>\n",
       "</div>"
      ],
      "text/plain": [
       "              mean      risk\n",
       "OverTime                    \n",
       "no        0.104364  0.647323\n",
       "yes       0.305288  1.893561"
      ]
     },
     "metadata": {},
     "output_type": "display_data"
    },
    {
     "name": "stdout",
     "output_type": "stream",
     "text": [
      "\n",
      "\n"
     ]
    },
    {
     "data": {
      "text/html": [
       "<div>\n",
       "<style scoped>\n",
       "    .dataframe tbody tr th:only-of-type {\n",
       "        vertical-align: middle;\n",
       "    }\n",
       "\n",
       "    .dataframe tbody tr th {\n",
       "        vertical-align: top;\n",
       "    }\n",
       "\n",
       "    .dataframe thead th {\n",
       "        text-align: right;\n",
       "    }\n",
       "</style>\n",
       "<table border=\"1\" class=\"dataframe\">\n",
       "  <thead>\n",
       "    <tr style=\"text-align: right;\">\n",
       "      <th></th>\n",
       "      <th>mean</th>\n",
       "      <th>risk</th>\n",
       "    </tr>\n",
       "    <tr>\n",
       "      <th>PerformanceRating</th>\n",
       "      <th></th>\n",
       "      <th></th>\n",
       "    </tr>\n",
       "  </thead>\n",
       "  <tbody>\n",
       "    <tr>\n",
       "      <th>excellent</th>\n",
       "      <td>0.160772</td>\n",
       "      <td>0.997192</td>\n",
       "    </tr>\n",
       "    <tr>\n",
       "      <th>outstanding</th>\n",
       "      <td>0.163717</td>\n",
       "      <td>1.015459</td>\n",
       "    </tr>\n",
       "  </tbody>\n",
       "</table>\n",
       "</div>"
      ],
      "text/plain": [
       "                       mean      risk\n",
       "PerformanceRating                    \n",
       "excellent          0.160772  0.997192\n",
       "outstanding        0.163717  1.015459"
      ]
     },
     "metadata": {},
     "output_type": "display_data"
    },
    {
     "name": "stdout",
     "output_type": "stream",
     "text": [
      "\n",
      "\n"
     ]
    },
    {
     "data": {
      "text/html": [
       "<div>\n",
       "<style scoped>\n",
       "    .dataframe tbody tr th:only-of-type {\n",
       "        vertical-align: middle;\n",
       "    }\n",
       "\n",
       "    .dataframe tbody tr th {\n",
       "        vertical-align: top;\n",
       "    }\n",
       "\n",
       "    .dataframe thead th {\n",
       "        text-align: right;\n",
       "    }\n",
       "</style>\n",
       "<table border=\"1\" class=\"dataframe\">\n",
       "  <thead>\n",
       "    <tr style=\"text-align: right;\">\n",
       "      <th></th>\n",
       "      <th>mean</th>\n",
       "      <th>risk</th>\n",
       "    </tr>\n",
       "    <tr>\n",
       "      <th>RelationshipSatisfaction</th>\n",
       "      <th></th>\n",
       "      <th></th>\n",
       "    </tr>\n",
       "  </thead>\n",
       "  <tbody>\n",
       "    <tr>\n",
       "      <th>high</th>\n",
       "      <td>0.154684</td>\n",
       "      <td>0.959433</td>\n",
       "    </tr>\n",
       "    <tr>\n",
       "      <th>low</th>\n",
       "      <td>0.206522</td>\n",
       "      <td>1.280958</td>\n",
       "    </tr>\n",
       "    <tr>\n",
       "      <th>medium</th>\n",
       "      <td>0.148515</td>\n",
       "      <td>0.921168</td>\n",
       "    </tr>\n",
       "    <tr>\n",
       "      <th>very_high</th>\n",
       "      <td>0.148148</td>\n",
       "      <td>0.918894</td>\n",
       "    </tr>\n",
       "  </tbody>\n",
       "</table>\n",
       "</div>"
      ],
      "text/plain": [
       "                              mean      risk\n",
       "RelationshipSatisfaction                    \n",
       "high                      0.154684  0.959433\n",
       "low                       0.206522  1.280958\n",
       "medium                    0.148515  0.921168\n",
       "very_high                 0.148148  0.918894"
      ]
     },
     "metadata": {},
     "output_type": "display_data"
    },
    {
     "name": "stdout",
     "output_type": "stream",
     "text": [
      "\n",
      "\n"
     ]
    },
    {
     "data": {
      "text/html": [
       "<div>\n",
       "<style scoped>\n",
       "    .dataframe tbody tr th:only-of-type {\n",
       "        vertical-align: middle;\n",
       "    }\n",
       "\n",
       "    .dataframe tbody tr th {\n",
       "        vertical-align: top;\n",
       "    }\n",
       "\n",
       "    .dataframe thead th {\n",
       "        text-align: right;\n",
       "    }\n",
       "</style>\n",
       "<table border=\"1\" class=\"dataframe\">\n",
       "  <thead>\n",
       "    <tr style=\"text-align: right;\">\n",
       "      <th></th>\n",
       "      <th>mean</th>\n",
       "      <th>risk</th>\n",
       "    </tr>\n",
       "    <tr>\n",
       "      <th>WorkLifeBalance</th>\n",
       "      <th></th>\n",
       "      <th></th>\n",
       "    </tr>\n",
       "  </thead>\n",
       "  <tbody>\n",
       "    <tr>\n",
       "      <th>bad</th>\n",
       "      <td>0.312500</td>\n",
       "      <td>1.938291</td>\n",
       "    </tr>\n",
       "    <tr>\n",
       "      <th>best</th>\n",
       "      <td>0.176471</td>\n",
       "      <td>1.094564</td>\n",
       "    </tr>\n",
       "    <tr>\n",
       "      <th>better</th>\n",
       "      <td>0.142217</td>\n",
       "      <td>0.882107</td>\n",
       "    </tr>\n",
       "    <tr>\n",
       "      <th>good</th>\n",
       "      <td>0.168605</td>\n",
       "      <td>1.045776</td>\n",
       "    </tr>\n",
       "  </tbody>\n",
       "</table>\n",
       "</div>"
      ],
      "text/plain": [
       "                     mean      risk\n",
       "WorkLifeBalance                    \n",
       "bad              0.312500  1.938291\n",
       "best             0.176471  1.094564\n",
       "better           0.142217  0.882107\n",
       "good             0.168605  1.045776"
      ]
     },
     "metadata": {},
     "output_type": "display_data"
    },
    {
     "name": "stdout",
     "output_type": "stream",
     "text": [
      "\n",
      "\n"
     ]
    }
   ],
   "source": [
    "df_diff_risk = {}\n",
    "\n",
    "for c in object_columns:\n",
    "    grouped_df = df.groupby(c)['Attrition'].agg(['mean'])\n",
    "    grouped_df['risk'] = grouped_df/global_attrition\n",
    "    display(grouped_df)\n",
    "    print()\n",
    "    print()\n",
    "    \n",
    "\n"
   ]
  },
  {
   "cell_type": "markdown",
   "metadata": {},
   "source": [
    "After examining the numbers, it seem Gender and PerformanceRating does not have an impact on Attrition. All the other remaining features do. A more detailed analysis is given below:\n",
    "\n",
    "*  BuisnessTravel - Travel frequently have a higher attrition rate than the global. the others are lower than the global\n",
    "\n",
    "*  Department: human resources and sales seem to have a higher attrition rate than research&development\n",
    "\n",
    "*  Education - people with below_college have the highest attrition rate (higher than global) - PhDs have the lowest\n",
    "\n",
    "*  EducationField - human_resources, marketing and technical degree are 60, 36 ad 50% more likely to leave than average\n",
    "\n",
    "*  EnvironmentSatisfaction - low satisfaction is 57% more likely to leave than global average\n",
    "\n",
    "*  Gender - slight difference, but males are more likely to resign than females\n",
    "\n",
    "*  JobInvolvement - low is twice more likely to leave than average\n",
    "\n",
    "*  JobRole - sales_representative are 140% more likely to resign than average\n",
    "\n",
    "*  JobSatisfaction - low is 40% more likely to leave\n",
    "\n",
    "*  MaritalStatus - single is 58% more likely to leave\n",
    "\n",
    "*  OverTime - those who work overtime are 89% more likely to leave\n",
    "\n",
    "*  PerformanceRating - does not seem to have an impact - very close to average\n",
    "* RelationshipSatisfaction - low is 28% more likely to leave than average\n",
    "* WorkLifeBalance - bad is 93% more likely to leave\n",
    "\n",
    "\n",
    "\n"
   ]
  },
  {
   "cell_type": "markdown",
   "metadata": {},
   "source": [
    "## 2.2 Mutual Information"
   ]
  },
  {
   "cell_type": "markdown",
   "metadata": {},
   "source": [
    "Let us see if the results of the mutual information matches our previous findings. I expect that Gender and PerformanceRating have a lower mutual information score than the remaining features. I also expect JobRole, OverTime and WorkLifeBalance to be on top of that list.\n",
    "This time we can also include numerical features."
   ]
  },
  {
   "cell_type": "code",
   "execution_count": 129,
   "metadata": {},
   "outputs": [],
   "source": [
    "df_features = df.drop('Attrition', axis = 1)"
   ]
  },
  {
   "cell_type": "code",
   "execution_count": 130,
   "metadata": {},
   "outputs": [],
   "source": [
    "object_features = list(df_features.columns[df_features.dtypes == 'object'].values)\n",
    "numerical_features = list(df_features.columns[df_features.dtypes != 'object'].values)"
   ]
  },
  {
   "cell_type": "code",
   "execution_count": 131,
   "metadata": {},
   "outputs": [
    {
     "data": {
      "image/png": "[encoded data removed]",
      "text/plain": [
       "<Figure size 2000x1000 with 1 Axes>"
      ]
     },
     "metadata": {},
     "output_type": "display_data"
    }
   ],
   "source": [
    "mi_scores = df_features[object_features].apply(lambda x: mutual_info_score(x, df.Attrition))\n",
    "mi_scores = mi_scores.sort_values(ascending = False)\n",
    "plt.figure(figsize=(20,10))\n",
    "plt.bar(mi_scores.index, mi_scores.values)\n",
    "c = plt.xticks(rotation = 90)"
   ]
  },
  {
   "cell_type": "markdown",
   "metadata": {},
   "source": [
    "* JobRole and OverTime came in as I had expected. \n",
    "* I was surprised by WorkLifeBalance coming in 9th place. However, checking back its feature importance table, only the 'bad' value had a very high impact on average attrition. Its other 3 values were very close to the global average. So maybe that reduces its mutual information score. \n",
    "* Whereas when I consider the feature importance table for Marital Status, a person is 30-40% less likely to resign if they are divorced or married and 58% likley to resign if they are single! So i beleive that give it its high mutual information score."
   ]
  },
  {
   "cell_type": "markdown",
   "metadata": {},
   "source": [
    "In terms of categorical features, JobRole, OverTime and MaritalStatus seem to tell us the most about Attrition. "
   ]
  },
  {
   "cell_type": "markdown",
   "metadata": {},
   "source": [
    "Let's have a look at numerical features too! "
   ]
  },
  {
   "cell_type": "code",
   "execution_count": 132,
   "metadata": {},
   "outputs": [
    {
     "data": {
      "image/png": "[encoded data removed]",
      "text/plain": [
       "<Figure size 2000x1000 with 1 Axes>"
      ]
     },
     "metadata": {},
     "output_type": "display_data"
    }
   ],
   "source": [
    "mi_scores = df_features[numerical_features].apply(lambda x: mutual_info_score(x, df.Attrition))\n",
    "mi_scores = mi_scores.sort_values(ascending = False)\n",
    "plt.figure(figsize=(20,10))\n",
    "plt.bar(mi_scores.index, mi_scores.values)\n",
    "c = plt.xticks(rotation = 90)"
   ]
  },
  {
   "cell_type": "markdown",
   "metadata": {},
   "source": [
    "* That says a lot. Already by the value of the MI score, the first four features have an MI score between c.a. 0.28 and 0.45. That is more than 10 times the highest MI score for the categorical features. \n",
    "* However, the EmployeeNumber seems odd to me. It seems to be some sort of an index as it is linearly increasing. However, it reaches a max value of 2,068 while we have 1,047 entries. I will keep an eye on it, but i am not convinced it is a valuable feature. I will test it when building the classification model. "
   ]
  },
  {
   "cell_type": "markdown",
   "metadata": {},
   "source": [
    "For numerical features, EmployeeNumber, MonthlyRate and MonthlyIncome seem to tell us the most about Attrition. Although for training, maybe these three features can be combined in one! It is actually pretty hard to interpret some of the numerical variables and i cannot find more information about the dataset! "
   ]
  },
  {
   "cell_type": "code",
   "execution_count": 133,
   "metadata": {},
   "outputs": [
    {
     "data": {
      "text/html": [
       "<div>\n",
       "<style scoped>\n",
       "    .dataframe tbody tr th:only-of-type {\n",
       "        vertical-align: middle;\n",
       "    }\n",
       "\n",
       "    .dataframe tbody tr th {\n",
       "        vertical-align: top;\n",
       "    }\n",
       "\n",
       "    .dataframe thead th {\n",
       "        text-align: right;\n",
       "    }\n",
       "</style>\n",
       "<table border=\"1\" class=\"dataframe\">\n",
       "  <thead>\n",
       "    <tr style=\"text-align: right;\">\n",
       "      <th></th>\n",
       "      <th>MonthlyRate</th>\n",
       "      <th>MonthlyIncome</th>\n",
       "      <th>DailyRate</th>\n",
       "    </tr>\n",
       "  </thead>\n",
       "  <tbody>\n",
       "    <tr>\n",
       "      <th>0</th>\n",
       "      <td>19479</td>\n",
       "      <td>5993</td>\n",
       "      <td>1102</td>\n",
       "    </tr>\n",
       "    <tr>\n",
       "      <th>1</th>\n",
       "      <td>24907</td>\n",
       "      <td>5130</td>\n",
       "      <td>279</td>\n",
       "    </tr>\n",
       "    <tr>\n",
       "      <th>2</th>\n",
       "      <td>2396</td>\n",
       "      <td>2090</td>\n",
       "      <td>1373</td>\n",
       "    </tr>\n",
       "    <tr>\n",
       "      <th>3</th>\n",
       "      <td>23159</td>\n",
       "      <td>2909</td>\n",
       "      <td>1392</td>\n",
       "    </tr>\n",
       "    <tr>\n",
       "      <th>4</th>\n",
       "      <td>16632</td>\n",
       "      <td>3468</td>\n",
       "      <td>591</td>\n",
       "    </tr>\n",
       "    <tr>\n",
       "      <th>...</th>\n",
       "      <td>...</td>\n",
       "      <td>...</td>\n",
       "      <td>...</td>\n",
       "    </tr>\n",
       "    <tr>\n",
       "      <th>1465</th>\n",
       "      <td>12290</td>\n",
       "      <td>2571</td>\n",
       "      <td>884</td>\n",
       "    </tr>\n",
       "    <tr>\n",
       "      <th>1466</th>\n",
       "      <td>21457</td>\n",
       "      <td>9991</td>\n",
       "      <td>613</td>\n",
       "    </tr>\n",
       "    <tr>\n",
       "      <th>1467</th>\n",
       "      <td>5174</td>\n",
       "      <td>6142</td>\n",
       "      <td>155</td>\n",
       "    </tr>\n",
       "    <tr>\n",
       "      <th>1468</th>\n",
       "      <td>13243</td>\n",
       "      <td>5390</td>\n",
       "      <td>1023</td>\n",
       "    </tr>\n",
       "    <tr>\n",
       "      <th>1469</th>\n",
       "      <td>10228</td>\n",
       "      <td>4404</td>\n",
       "      <td>628</td>\n",
       "    </tr>\n",
       "  </tbody>\n",
       "</table>\n",
       "<p>1470 rows × 3 columns</p>\n",
       "</div>"
      ],
      "text/plain": [
       "      MonthlyRate  MonthlyIncome  DailyRate\n",
       "0           19479           5993       1102\n",
       "1           24907           5130        279\n",
       "2            2396           2090       1373\n",
       "3           23159           2909       1392\n",
       "4           16632           3468        591\n",
       "...           ...            ...        ...\n",
       "1465        12290           2571        884\n",
       "1466        21457           9991        613\n",
       "1467         5174           6142        155\n",
       "1468        13243           5390       1023\n",
       "1469        10228           4404        628\n",
       "\n",
       "[1470 rows x 3 columns]"
      ]
     },
     "execution_count": 133,
     "metadata": {},
     "output_type": "execute_result"
    }
   ],
   "source": [
    "df[['MonthlyRate','MonthlyIncome','DailyRate']]"
   ]
  },
  {
   "cell_type": "code",
   "execution_count": 134,
   "metadata": {},
   "outputs": [
    {
     "data": {
      "text/plain": [
       "DistanceFromHome           0.077924\n",
       "NumCompaniesWorked         0.043494\n",
       "MonthlyRate                0.015170\n",
       "HourlyRate                -0.006846\n",
       "EmployeeNumber            -0.010577\n",
       "PercentSalaryHike         -0.013478\n",
       "YearsSinceLastPromotion   -0.033019\n",
       "DailyRate                 -0.056652\n",
       "TrainingTimesLastYear     -0.059478\n",
       "YearsAtCompany            -0.134392\n",
       "StockOptionLevel          -0.137145\n",
       "YearsWithCurrManager      -0.156199\n",
       "Age                       -0.159205\n",
       "MonthlyIncome             -0.159840\n",
       "YearsInCurrentRole        -0.160545\n",
       "JobLevel                  -0.169105\n",
       "TotalWorkingYears         -0.171063\n",
       "EmployeeCount                   NaN\n",
       "StandardHours                   NaN\n",
       "dtype: float64"
      ]
     },
     "execution_count": 134,
     "metadata": {},
     "output_type": "execute_result"
    }
   ],
   "source": [
    "df_features[numerical_features].corrwith(df.Attrition).sort_values(ascending=False)"
   ]
  },
  {
   "cell_type": "markdown",
   "metadata": {},
   "source": [
    "The 8 bottom features there seem the only ones to have a signficant correlation value and they are all negative. So any of these features go up, the attrition may go down.  "
   ]
  },
  {
   "cell_type": "markdown",
   "metadata": {},
   "source": [
    "EmployeeCount and StandardHours have a single unique value. So let us delete them. "
   ]
  },
  {
   "cell_type": "code",
   "execution_count": 135,
   "metadata": {},
   "outputs": [],
   "source": [
    "df.EmployeeCount.unique()\n",
    "df.StandardHours.unique()\n",
    "df_features.drop(['StandardHours','EmployeeCount'],axis = 1, inplace=True)"
   ]
  },
  {
   "cell_type": "code",
   "execution_count": 136,
   "metadata": {},
   "outputs": [],
   "source": [
    "object_features = list(df_features.columns[df_features.dtypes == 'object'].values)\n",
    "numerical_features = list(df_features.columns[df_features.dtypes != 'object'].values)"
   ]
  },
  {
   "cell_type": "markdown",
   "metadata": {},
   "source": [
    "<a id=\"section-3\"></a>\n",
    "# [3. Build the Model](#section-3)"
   ]
  },
  {
   "cell_type": "markdown",
   "metadata": {},
   "source": [
    "This is a classification problem. The dataset has 31 features and an attrition (resigned) column. We will train classification models (logistic regression, decision trees and ensemble learning) to predict the attrition based on the 34 features. \n",
    "\n",
    "First, i will split the data into a training, validation and test dataset. After training and testing their performance on a validation dataset, I will choose the xgb_modelwith the best performance. I will then train and test the chosen model on the full dataset. \n",
    "\n",
    "Let's start with some data preparation. We need to transform our dataframe into a form that ML models can digest! "
   ]
  },
  {
   "cell_type": "markdown",
   "metadata": {},
   "source": [
    "## 3.1 Data transformation/encoding\n",
    "\n",
    "Here we will use methods from scikit-learn that allow us to encode data into machine understandable format. We will go from 'Married' and 'Divorced' to numbers. But first let us split the data into training, validation and testing. "
   ]
  },
  {
   "cell_type": "code",
   "execution_count": 137,
   "metadata": {},
   "outputs": [],
   "source": [
    "y = df.Attrition #our target variable"
   ]
  },
  {
   "cell_type": "code",
   "execution_count": 138,
   "metadata": {},
   "outputs": [],
   "source": [
    "df_train,  df_val_test,y_train, y_val_test = train_test_split(df_features,y, test_size= 0.4, random_state=1)\n",
    "df_val, df_test,y_val, y_test = train_test_split(df_val_test, y_val_test, test_size=0.5, random_state=1)\n"
   ]
  },
  {
   "cell_type": "code",
   "execution_count": 139,
   "metadata": {},
   "outputs": [],
   "source": [
    "X_train = df_train.to_dict(orient='records')\n",
    "X_val = df_val.to_dict(orient='records')"
   ]
  },
  {
   "cell_type": "code",
   "execution_count": 140,
   "metadata": {},
   "outputs": [],
   "source": [
    "dv = DictVectorizer(sparse=False)\n",
    "\n",
    "X_train = dv.fit_transform(X_train)\n",
    "X_val = dv.transform(X_val)"
   ]
  },
  {
   "cell_type": "markdown",
   "metadata": {},
   "source": [
    "## 3.2 Model selection\n",
    "\n",
    "Here we are going to build the following ML models:\n",
    "* Logistic regression\n",
    "* Decision tree\n",
    "* Random Forest\n",
    "* XGBOOST\n",
    "\n",
    "We will hypertune each model by train  on the train dataset and evaluating on the validation test. The best performing model (on the validation dataset) will be tested on the test dataset. If the performance is similar to the validation process, then it will be selected. "
   ]
  },
  {
   "cell_type": "code",
   "execution_count": 141,
   "metadata": {},
   "outputs": [],
   "source": [
    "df_model_auc = {}"
   ]
  },
  {
   "cell_type": "markdown",
   "metadata": {},
   "source": [
    "**Logistic Regression**"
   ]
  },
  {
   "cell_type": "code",
   "execution_count": 142,
   "metadata": {},
   "outputs": [
    {
     "name": "stdout",
     "output_type": "stream",
     "text": [
      "C = 0.001 -> roc = 0.500\n",
      "C = 0.01 -> roc = 0.540\n",
      "C = 0.1 -> roc = 0.658\n",
      "C = 1 -> roc = 0.682\n"
     ]
    }
   ],
   "source": [
    "C = [0.001, 0.01, 0.1, 1]\n",
    "LR_auc_score = []\n",
    "from sklearn.preprocessing import StandardScaler\n",
    "scaler = StandardScaler()\n",
    "X_train_scaled = scaler.fit_transform(X_train)\n",
    "X_val_scaled = scaler.fit_transform(X_val)\n",
    "for c in C:\n",
    "    LR_model = LogisticRegression(C=c, max_iter=1000)\n",
    "    LR_model.fit(X_train_scaled, y_train)\n",
    "    LR_y_val_pred = LR_model.predict(X_val_scaled)\n",
    "    roc = roc_auc_score(y_val,LR_y_val_pred)\n",
    "    LR_auc_score.append(roc)\n",
    "    print(f'C = {c} -> roc = {roc:.3f}')"
   ]
  },
  {
   "cell_type": "code",
   "execution_count": 143,
   "metadata": {},
   "outputs": [],
   "source": [
    "df_model_auc['logistic_regression'] = LR_auc_score[-1]"
   ]
  },
  {
   "cell_type": "markdown",
   "metadata": {},
   "source": [
    "Even the best performance does not have a 'good' score. This is due to the size of the dataset. We will still go with C=1.0 for the Logistic Regression model."
   ]
  },
  {
   "cell_type": "markdown",
   "metadata": {},
   "source": [
    "**Decision Tree**"
   ]
  },
  {
   "cell_type": "code",
   "execution_count": 144,
   "metadata": {},
   "outputs": [],
   "source": [
    "DT_auc_score = []\n",
    "Depth = [4, 5, 6]\n",
    "min_sample_leaf = [1, 5, 10, 15, 20, 500, 100, 200]\n",
    "for depth in Depth:\n",
    "    for s in min_sample_leaf:\n",
    "        DT_model = DecisionTreeClassifier(max_depth = depth, min_samples_leaf=s, random_state=1)\n",
    "        DT_model.fit(X_train, y_train)\n",
    "        DT_y_val_pred = DT_model.predict(X_val)\n",
    "        roc = roc_auc_score(y_val, DT_y_val_pred)\n",
    "        DT_auc_score.append((depth, s,roc))\n",
    "        # print(f'Depth = {depth}, min_sample_leaf = {s} -> roc = {roc:.3f}')\n"
   ]
  },
  {
   "cell_type": "code",
   "execution_count": 145,
   "metadata": {},
   "outputs": [
    {
     "data": {
      "text/html": [
       "<div>\n",
       "<style scoped>\n",
       "    .dataframe tbody tr th:only-of-type {\n",
       "        vertical-align: middle;\n",
       "    }\n",
       "\n",
       "    .dataframe tbody tr th {\n",
       "        vertical-align: top;\n",
       "    }\n",
       "\n",
       "    .dataframe thead tr th {\n",
       "        text-align: left;\n",
       "    }\n",
       "\n",
       "    .dataframe thead tr:last-of-type th {\n",
       "        text-align: right;\n",
       "    }\n",
       "</style>\n",
       "<table border=\"1\" class=\"dataframe\">\n",
       "  <thead>\n",
       "    <tr>\n",
       "      <th></th>\n",
       "      <th colspan=\"3\" halign=\"left\">roc</th>\n",
       "    </tr>\n",
       "    <tr>\n",
       "      <th>depth</th>\n",
       "      <th>4</th>\n",
       "      <th>5</th>\n",
       "      <th>6</th>\n",
       "    </tr>\n",
       "    <tr>\n",
       "      <th>min_sample_leaf</th>\n",
       "      <th></th>\n",
       "      <th></th>\n",
       "      <th></th>\n",
       "    </tr>\n",
       "  </thead>\n",
       "  <tbody>\n",
       "    <tr>\n",
       "      <th>1</th>\n",
       "      <td>0.559262</td>\n",
       "      <td>0.616967</td>\n",
       "      <td>0.581066</td>\n",
       "    </tr>\n",
       "    <tr>\n",
       "      <th>5</th>\n",
       "      <td>0.557459</td>\n",
       "      <td>0.575164</td>\n",
       "      <td>0.559262</td>\n",
       "    </tr>\n",
       "    <tr>\n",
       "      <th>10</th>\n",
       "      <td>0.587459</td>\n",
       "      <td>0.587213</td>\n",
       "      <td>0.593115</td>\n",
       "    </tr>\n",
       "    <tr>\n",
       "      <th>15</th>\n",
       "      <td>0.585656</td>\n",
       "      <td>0.579508</td>\n",
       "      <td>0.579508</td>\n",
       "    </tr>\n",
       "    <tr>\n",
       "      <th>20</th>\n",
       "      <td>0.581557</td>\n",
       "      <td>0.581557</td>\n",
       "      <td>0.581557</td>\n",
       "    </tr>\n",
       "    <tr>\n",
       "      <th>100</th>\n",
       "      <td>0.500000</td>\n",
       "      <td>0.500000</td>\n",
       "      <td>0.500000</td>\n",
       "    </tr>\n",
       "    <tr>\n",
       "      <th>200</th>\n",
       "      <td>0.500000</td>\n",
       "      <td>0.500000</td>\n",
       "      <td>0.500000</td>\n",
       "    </tr>\n",
       "    <tr>\n",
       "      <th>500</th>\n",
       "      <td>0.500000</td>\n",
       "      <td>0.500000</td>\n",
       "      <td>0.500000</td>\n",
       "    </tr>\n",
       "  </tbody>\n",
       "</table>\n",
       "</div>"
      ],
      "text/plain": [
       "                      roc                    \n",
       "depth                   4         5         6\n",
       "min_sample_leaf                              \n",
       "1                0.559262  0.616967  0.581066\n",
       "5                0.557459  0.575164  0.559262\n",
       "10               0.587459  0.587213  0.593115\n",
       "15               0.585656  0.579508  0.579508\n",
       "20               0.581557  0.581557  0.581557\n",
       "100              0.500000  0.500000  0.500000\n",
       "200              0.500000  0.500000  0.500000\n",
       "500              0.500000  0.500000  0.500000"
      ]
     },
     "execution_count": 145,
     "metadata": {},
     "output_type": "execute_result"
    }
   ],
   "source": [
    "DT_df_roc = pd.DataFrame(DT_auc_score, columns= ['depth','min_sample_leaf','roc'])\n",
    "DT_df_roc = DT_df_roc.pivot(index = 'min_sample_leaf', columns='depth')\n",
    "\n",
    "DT_df_roc"
   ]
  },
  {
   "cell_type": "markdown",
   "metadata": {},
   "source": [
    "A depth of 5 and a min_sample_leaf of 1 provides the highest roc of 0.61!"
   ]
  },
  {
   "cell_type": "code",
   "execution_count": 146,
   "metadata": {},
   "outputs": [
    {
     "data": {
      "text/html": [
       "<style>#sk-container-id-3 {color: black;background-color: white;}#sk-container-id-3 pre{padding: 0;}#sk-container-id-3 div.sk-toggleable {background-color: white;}#sk-container-id-3 label.sk-toggleable__label {cursor: pointer;display: block;width: 100%;margin-bottom: 0;padding: 0.3em;box-sizing: border-box;text-align: center;}#sk-container-id-3 label.sk-toggleable__label-arrow:before {content: \"▸\";float: left;margin-right: 0.25em;color: #696969;}#sk-container-id-3 label.sk-toggleable__label-arrow:hover:before {color: black;}#sk-container-id-3 div.sk-estimator:hover label.sk-toggleable__label-arrow:before {color: black;}#sk-container-id-3 div.sk-toggleable__content {max-height: 0;max-width: 0;overflow: hidden;text-align: left;background-color: #f0f8ff;}#sk-container-id-3 div.sk-toggleable__content pre {margin: 0.2em;color: black;border-radius: 0.25em;background-color: #f0f8ff;}#sk-container-id-3 input.sk-toggleable__control:checked~div.sk-toggleable__content {max-height: 200px;max-width: 100%;overflow: auto;}#sk-container-id-3 input.sk-toggleable__control:checked~label.sk-toggleable__label-arrow:before {content: \"▾\";}#sk-container-id-3 div.sk-estimator input.sk-toggleable__control:checked~label.sk-toggleable__label {background-color: #d4ebff;}#sk-container-id-3 div.sk-label input.sk-toggleable__control:checked~label.sk-toggleable__label {background-color: #d4ebff;}#sk-container-id-3 input.sk-hidden--visually {border: 0;clip: rect(1px 1px 1px 1px);clip: rect(1px, 1px, 1px, 1px);height: 1px;margin: -1px;overflow: hidden;padding: 0;position: absolute;width: 1px;}#sk-container-id-3 div.sk-estimator {font-family: monospace;background-color: #f0f8ff;border: 1px dotted black;border-radius: 0.25em;box-sizing: border-box;margin-bottom: 0.5em;}#sk-container-id-3 div.sk-estimator:hover {background-color: #d4ebff;}#sk-container-id-3 div.sk-parallel-item::after {content: \"\";width: 100%;border-bottom: 1px solid gray;flex-grow: 1;}#sk-container-id-3 div.sk-label:hover label.sk-toggleable__label {background-color: #d4ebff;}#sk-container-id-3 div.sk-serial::before {content: \"\";position: absolute;border-left: 1px solid gray;box-sizing: border-box;top: 0;bottom: 0;left: 50%;z-index: 0;}#sk-container-id-3 div.sk-serial {display: flex;flex-direction: column;align-items: center;background-color: white;padding-right: 0.2em;padding-left: 0.2em;position: relative;}#sk-container-id-3 div.sk-item {position: relative;z-index: 1;}#sk-container-id-3 div.sk-parallel {display: flex;align-items: stretch;justify-content: center;background-color: white;position: relative;}#sk-container-id-3 div.sk-item::before, #sk-container-id-3 div.sk-parallel-item::before {content: \"\";position: absolute;border-left: 1px solid gray;box-sizing: border-box;top: 0;bottom: 0;left: 50%;z-index: -1;}#sk-container-id-3 div.sk-parallel-item {display: flex;flex-direction: column;z-index: 1;position: relative;background-color: white;}#sk-container-id-3 div.sk-parallel-item:first-child::after {align-self: flex-end;width: 50%;}#sk-container-id-3 div.sk-parallel-item:last-child::after {align-self: flex-start;width: 50%;}#sk-container-id-3 div.sk-parallel-item:only-child::after {width: 0;}#sk-container-id-3 div.sk-dashed-wrapped {border: 1px dashed gray;margin: 0 0.4em 0.5em 0.4em;box-sizing: border-box;padding-bottom: 0.4em;background-color: white;}#sk-container-id-3 div.sk-label label {font-family: monospace;font-weight: bold;display: inline-block;line-height: 1.2em;}#sk-container-id-3 div.sk-label-container {text-align: center;}#sk-container-id-3 div.sk-container {/* jupyter's `normalize.less` sets `[hidden] { display: none; }` but bootstrap.min.css set `[hidden] { display: none !important; }` so we also need the `!important` here to be able to override the default hidden behavior on the sphinx rendered scikit-learn.org. See: https://github.com/scikit-learn/scikit-learn/issues/21755 */display: inline-block !important;position: relative;}#sk-container-id-3 div.sk-text-repr-fallback {display: none;}</style><div id=\"sk-container-id-3\" class=\"sk-top-container\"><div class=\"sk-text-repr-fallback\"><pre>DecisionTreeClassifier(max_depth=5)</pre><b>In a Jupyter environment, please rerun this cell to show the HTML representation or trust the notebook. <br />On GitHub, the HTML representation is unable to render, please try loading this page with nbviewer.org.</b></div><div class=\"sk-container\" hidden><div class=\"sk-item\"><div class=\"sk-estimator sk-toggleable\"><input class=\"sk-toggleable__control sk-hidden--visually\" id=\"sk-estimator-id-3\" type=\"checkbox\" checked><label for=\"sk-estimator-id-3\" class=\"sk-toggleable__label sk-toggleable__label-arrow\">DecisionTreeClassifier</label><div class=\"sk-toggleable__content\"><pre>DecisionTreeClassifier(max_depth=5)</pre></div></div></div></div></div>"
      ],
      "text/plain": [
       "DecisionTreeClassifier(max_depth=5)"
      ]
     },
     "execution_count": 146,
     "metadata": {},
     "output_type": "execute_result"
    }
   ],
   "source": [
    "DT_model = DecisionTreeClassifier(max_depth = 5, min_samples_leaf=1)\n",
    "DT_model.fit(X_train, y_train)"
   ]
  },
  {
   "cell_type": "code",
   "execution_count": null,
   "metadata": {},
   "outputs": [],
   "source": []
  },
  {
   "cell_type": "code",
   "execution_count": 147,
   "metadata": {},
   "outputs": [],
   "source": [
    "df_model_auc['decision_tree'] = DT_df_roc.max().max()"
   ]
  },
  {
   "cell_type": "code",
   "execution_count": 148,
   "metadata": {},
   "outputs": [
    {
     "name": "stdout",
     "output_type": "stream",
     "text": [
      "|--- OverTime=yes <= 0.50\n",
      "|   |--- TotalWorkingYears <= 2.50\n",
      "|   |   |--- JobRole=research_scientist <= 0.50\n",
      "|   |   |   |--- HourlyRate <= 58.50\n",
      "|   |   |   |   |--- Age <= 34.50\n",
      "|   |   |   |   |   |--- class: 1\n",
      "|   |   |   |   |--- Age >  34.50\n",
      "|   |   |   |   |   |--- class: 0\n",
      "|   |   |   |--- HourlyRate >  58.50\n",
      "|   |   |   |   |--- HourlyRate <= 83.50\n",
      "|   |   |   |   |   |--- class: 0\n",
      "|   |   |   |   |--- HourlyRate >  83.50\n",
      "|   |   |   |   |   |--- class: 1\n",
      "|   |   |--- JobRole=research_scientist >  0.50\n",
      "|   |   |   |--- class: 0\n",
      "|   |--- TotalWorkingYears >  2.50\n",
      "|   |   |--- EnvironmentSatisfaction=low <= 0.50\n",
      "|   |   |   |--- YearsAtCompany <= 30.00\n",
      "|   |   |   |   |--- MonthlyIncome <= 2087.00\n",
      "|   |   |   |   |   |--- class: 0\n",
      "|   |   |   |   |--- MonthlyIncome >  2087.00\n",
      "|   |   |   |   |   |--- class: 0\n",
      "|   |   |   |--- YearsAtCompany >  30.00\n",
      "|   |   |   |   |--- class: 1\n",
      "|   |   |--- EnvironmentSatisfaction=low >  0.50\n",
      "|   |   |   |--- EducationField=marketing <= 0.50\n",
      "|   |   |   |   |--- HourlyRate <= 99.50\n",
      "|   |   |   |   |   |--- class: 0\n",
      "|   |   |   |   |--- HourlyRate >  99.50\n",
      "|   |   |   |   |   |--- class: 1\n",
      "|   |   |   |--- EducationField=marketing >  0.50\n",
      "|   |   |   |   |--- DailyRate <= 517.50\n",
      "|   |   |   |   |   |--- class: 1\n",
      "|   |   |   |   |--- DailyRate >  517.50\n",
      "|   |   |   |   |   |--- class: 0\n",
      "|--- OverTime=yes >  0.50\n",
      "|   |--- MonthlyIncome <= 2963.50\n",
      "|   |   |--- YearsWithCurrManager <= 0.50\n",
      "|   |   |   |--- DistanceFromHome <= 3.00\n",
      "|   |   |   |   |--- MonthlyIncome <= 1888.00\n",
      "|   |   |   |   |   |--- class: 0\n",
      "|   |   |   |   |--- MonthlyIncome >  1888.00\n",
      "|   |   |   |   |   |--- class: 1\n",
      "|   |   |   |--- DistanceFromHome >  3.00\n",
      "|   |   |   |   |--- class: 1\n",
      "|   |   |--- YearsWithCurrManager >  0.50\n",
      "|   |   |   |--- EnvironmentSatisfaction=low <= 0.50\n",
      "|   |   |   |   |--- MonthlyRate <= 25503.50\n",
      "|   |   |   |   |   |--- class: 0\n",
      "|   |   |   |   |--- MonthlyRate >  25503.50\n",
      "|   |   |   |   |   |--- class: 1\n",
      "|   |   |   |--- EnvironmentSatisfaction=low >  0.50\n",
      "|   |   |   |   |--- YearsSinceLastPromotion <= 4.50\n",
      "|   |   |   |   |   |--- class: 1\n",
      "|   |   |   |   |--- YearsSinceLastPromotion >  4.50\n",
      "|   |   |   |   |   |--- class: 0\n",
      "|   |--- MonthlyIncome >  2963.50\n",
      "|   |   |--- TrainingTimesLastYear <= 0.50\n",
      "|   |   |   |--- JobInvolvement=very_high <= 0.50\n",
      "|   |   |   |   |--- class: 1\n",
      "|   |   |   |--- JobInvolvement=very_high >  0.50\n",
      "|   |   |   |   |--- class: 0\n",
      "|   |   |--- TrainingTimesLastYear >  0.50\n",
      "|   |   |   |--- Department=sales <= 0.50\n",
      "|   |   |   |   |--- NumCompaniesWorked <= 8.50\n",
      "|   |   |   |   |   |--- class: 0\n",
      "|   |   |   |   |--- NumCompaniesWorked >  8.50\n",
      "|   |   |   |   |   |--- class: 0\n",
      "|   |   |   |--- Department=sales >  0.50\n",
      "|   |   |   |   |--- StockOptionLevel <= 0.50\n",
      "|   |   |   |   |   |--- class: 1\n",
      "|   |   |   |   |--- StockOptionLevel >  0.50\n",
      "|   |   |   |   |   |--- class: 0\n",
      "\n"
     ]
    }
   ],
   "source": [
    "print(export_text(DT_model, feature_names=list(dv.get_feature_names_out())))"
   ]
  },
  {
   "cell_type": "markdown",
   "metadata": {},
   "source": [
    "There we go, OverTime and MonthlyIncome appear again as top features! "
   ]
  },
  {
   "cell_type": "markdown",
   "metadata": {},
   "source": [
    "Right! So far, LogisticRegression is winning at roc = 0.682.\n",
    "\n",
    "On to **Random Forests!** "
   ]
  },
  {
   "cell_type": "code",
   "execution_count": 149,
   "metadata": {},
   "outputs": [],
   "source": [
    "RF_auc_score = []\n",
    "n_estimator = list(np.linspace(1,10,10, dtype = 'int'))\n",
    "Depth = [7,8,9,10,11]\n",
    "for depth in Depth:\n",
    "    for n in n_estimator:\n",
    "        RF_model = RandomForestClassifier(max_depth=depth, n_estimators = n, random_state=1)\n",
    "        RF_model.fit(X_train, y_train)\n",
    "        RF_y_val_pred = RF_model.predict(X_val)\n",
    "        roc = roc_auc_score(y_val, RF_y_val_pred)\n",
    "        RF_auc_score.append((depth,n,roc))\n",
    "        # print(f'Depth = {depth}, min_sample_leaf = {s} -> roc = {roc:.3f}')\n"
   ]
  },
  {
   "cell_type": "code",
   "execution_count": 150,
   "metadata": {},
   "outputs": [
    {
     "data": {
      "text/plain": [
       "<matplotlib.legend.Legend at 0x1f7733dec80>"
      ]
     },
     "execution_count": 150,
     "metadata": {},
     "output_type": "execute_result"
    },
    {
     "data": {
      "image/png": "[encoded data removed]",
      "text/plain": [
       "<Figure size 640x480 with 1 Axes>"
      ]
     },
     "metadata": {},
     "output_type": "display_data"
    }
   ],
   "source": [
    "df_RF_auc_score = pd.DataFrame(RF_auc_score, columns=['depth','n_estimator','roc'])\n",
    "for d in Depth:\n",
    "    df_plot = df_RF_auc_score[df_RF_auc_score.depth==d]\n",
    "    plt.plot(df_plot.n_estimator, df_plot.roc, label = f'max_depth = {d}')\n",
    "plt.legend()"
   ]
  },
  {
   "cell_type": "markdown",
   "metadata": {},
   "source": [
    "Let's go with max_depth = 8"
   ]
  },
  {
   "cell_type": "code",
   "execution_count": 151,
   "metadata": {},
   "outputs": [],
   "source": [
    "max_depth = 8\n",
    "RF_auc_score = []\n",
    "min_sample_leaf = list(np.linspace(1,10,10, dtype = 'int'))\n",
    "\n",
    "for s in min_sample_leaf:\n",
    "    for n in n_estimator:\n",
    "        RF_model = RandomForestClassifier(n_estimators = n, max_depth = max_depth, min_samples_leaf=s, random_state=1)\n",
    "        RF_model.fit(X_train, y_train)\n",
    "        RF_y_val_pred = RF_model.predict(X_val)\n",
    "        roc = roc_auc_score(y_val, RF_y_val_pred)\n",
    "        RF_auc_score.append((s,n,roc))\n",
    "    # print(f'Depth = {depth}, min_sample_leaf = {s} -> roc = {roc:.3f}')\n"
   ]
  },
  {
   "cell_type": "code",
   "execution_count": 152,
   "metadata": {},
   "outputs": [
    {
     "data": {
      "text/plain": [
       "<matplotlib.legend.Legend at 0x1f7691cd750>"
      ]
     },
     "execution_count": 152,
     "metadata": {},
     "output_type": "execute_result"
    },
    {
     "data": {
      "image/png": "[encoded data removed]",
      "text/plain": [
       "<Figure size 640x480 with 1 Axes>"
      ]
     },
     "metadata": {},
     "output_type": "display_data"
    }
   ],
   "source": [
    "df_RF_auc_score = pd.DataFrame(RF_auc_score, columns=['min_sample_leaf','n_estimator','roc'])\n",
    "for s in min_sample_leaf:\n",
    "    df_plot = df_RF_auc_score[df_RF_auc_score.min_sample_leaf==s]\n",
    "    plt.plot(df_plot.n_estimator, df_plot.roc, label = f'min_sample_leaf = {s}')\n",
    "plt.legend()"
   ]
  },
  {
   "cell_type": "code",
   "execution_count": 153,
   "metadata": {},
   "outputs": [
    {
     "name": "stdout",
     "output_type": "stream",
     "text": [
      "0.605655737704918\n"
     ]
    }
   ],
   "source": [
    "max_depth = 8\n",
    "min_sample_leaf = 1\n",
    "n_estimator = 5\n",
    "RF_model = RandomForestClassifier(n_estimators = n_estimator, max_depth = max_depth, min_samples_leaf=min_sample_leaf, random_state=1)\n",
    "RF_model.fit(X_train, y_train)\n",
    "RF_y_val_pred = RF_model.predict(X_val)\n",
    "RF_roc = roc_auc_score(y_val, RF_y_val_pred)\n",
    "print(RF_roc)"
   ]
  },
  {
   "cell_type": "code",
   "execution_count": 154,
   "metadata": {},
   "outputs": [],
   "source": [
    "df_model_auc['random_forest'] = RF_roc"
   ]
  },
  {
   "cell_type": "markdown",
   "metadata": {},
   "source": [
    "As expected, Random forest performs worst than decision tree due the small size of the dataset. "
   ]
  },
  {
   "cell_type": "markdown",
   "metadata": {},
   "source": [
    "**XGBOOST** is the final candidate to beat Logistic Regression! Let's see!"
   ]
  },
  {
   "cell_type": "code",
   "execution_count": 155,
   "metadata": {},
   "outputs": [],
   "source": [
    "features = dv.get_feature_names_out()\n",
    "dtrain = xgb.DMatrix(X_train, label= y_train, feature_names=features)\n",
    "dval = xgb.DMatrix(X_val, y_val, feature_names=features)"
   ]
  },
  {
   "cell_type": "code",
   "execution_count": 156,
   "metadata": {},
   "outputs": [],
   "source": [
    "def parse_xgb_output(output):\n",
    "    results = []\n",
    "\n",
    "    for line in output.stdout.strip().split('\\n'):\n",
    "        it_line, train_line, val_line = line.split('\\t')\n",
    "\n",
    "        it = int(it_line.strip('[]'))\n",
    "        train = float(train_line.split(':')[1])\n",
    "        val = float(val_line.split(':')[1])\n",
    "\n",
    "        results.append((it, train, val))\n",
    "    \n",
    "    columns = ['num_iter', 'train_auc', 'val_auc']\n",
    "    df_results = pd.DataFrame(results, columns=columns)\n",
    "    return df_results"
   ]
  },
  {
   "cell_type": "markdown",
   "metadata": {},
   "source": [
    "eta tuning"
   ]
  },
  {
   "cell_type": "code",
   "execution_count": 157,
   "metadata": {},
   "outputs": [],
   "source": [
    "%%capture output\n",
    "num_boost_round=300\n",
    "verbose_eval=2\n",
    "watchlist = [(dtrain, 'train'), (dval, 'val')]\n",
    "eta_list = [0.1,0.2,0.3]\n",
    "for eta in eta_list:\n",
    "    xgb_params = {\n",
    "        'eta': eta, \n",
    "        'max_depth': 6,\n",
    "        'min_child_weight': 1,\n",
    "        \n",
    "        'objective': 'binary:logistic',\n",
    "        'eval_metric': 'auc',\n",
    "\n",
    "        'nthread': 8,\n",
    "        'seed': 1,\n",
    "        'verbosity': 1,\n",
    "    }\n",
    "\n",
    "    xgb_model = xgb.train(xgb_params, dtrain, num_boost_round=num_boost_round,\n",
    "                verbose_eval=verbose_eval,\n",
    "                evals=watchlist)\n",
    "df_results = parse_xgb_output(output)\n",
    "   \n",
    "    # plt.legend()\n"
   ]
  },
  {
   "cell_type": "code",
   "execution_count": 158,
   "metadata": {},
   "outputs": [],
   "source": [
    "def auc_plot(df_results, output_loop,xgb_param_name, xgb_param_list):\n",
    "    for i in range(1,len(xgb_param_list)+1):\n",
    "        df_plot = df_results.iloc[(i-1)*output_loop+i-1:(i-1)*output_loop+i+output_loop]\n",
    "        plt.plot(df_plot.num_iter, df_plot.val_auc,'-', label = f'{xgb_param_name} = {xgb_param_list[i-1]}')\n",
    "    plt.legend()"
   ]
  },
  {
   "cell_type": "code",
   "execution_count": 159,
   "metadata": {},
   "outputs": [
    {
     "data": {
      "image/png": "[encoded data removed]",
      "text/plain": [
       "<Figure size 640x480 with 1 Axes>"
      ]
     },
     "metadata": {},
     "output_type": "display_data"
    }
   ],
   "source": [
    "output_loop = int(num_boost_round/verbose_eval) # the number of rows in each iteration corresponding to a xgb_parameter value\n",
    "auc_plot(df_results, output_loop, 'eta',eta_list)"
   ]
  },
  {
   "cell_type": "markdown",
   "metadata": {},
   "source": [
    "eta = 0.1 is shown the best performance. "
   ]
  },
  {
   "cell_type": "code",
   "execution_count": 160,
   "metadata": {},
   "outputs": [],
   "source": [
    "del df_results\n",
    "clear_output()"
   ]
  },
  {
   "cell_type": "code",
   "execution_count": 161,
   "metadata": {},
   "outputs": [],
   "source": [
    "%%capture output\n",
    "\n",
    "num_boost_round=300\n",
    "verbose_eval=2\n",
    "watchlist = [(dtrain, 'train'), (dval, 'val')]\n",
    "max_depth_list = [5,10,15]\n",
    "for max_depth in max_depth_list:\n",
    "    xgb_params = {\n",
    "        'eta': 0.1, \n",
    "        'max_depth': max_depth,\n",
    "        'min_child_weight': 1,\n",
    "        \n",
    "        'objective': 'binary:logistic',\n",
    "        'eval_metric': 'auc',\n",
    "\n",
    "        'nthread': 8,\n",
    "        'seed': 1,\n",
    "        'verbosity': 1,\n",
    "    }\n",
    "\n",
    "    xgb_model = xgb.train(xgb_params, dtrain, num_boost_round=num_boost_round,\n",
    "                verbose_eval=verbose_eval,\n",
    "                evals=watchlist)\n",
    "df_results = parse_xgb_output(output)\n",
    "   \n",
    "    # plt.legend()\n"
   ]
  },
  {
   "cell_type": "code",
   "execution_count": 162,
   "metadata": {},
   "outputs": [
    {
     "data": {
      "image/png": "[encoded data removed]",
      "text/plain": [
       "<Figure size 640x480 with 1 Axes>"
      ]
     },
     "metadata": {},
     "output_type": "display_data"
    }
   ],
   "source": [
    "   \n",
    "auc_plot(df_results, output_loop,'max_depth', max_depth_list)"
   ]
  },
  {
   "cell_type": "markdown",
   "metadata": {},
   "source": [
    "max_depth = 5"
   ]
  },
  {
   "cell_type": "code",
   "execution_count": 163,
   "metadata": {},
   "outputs": [],
   "source": [
    "del df_results\n",
    "clear_output()"
   ]
  },
  {
   "cell_type": "code",
   "execution_count": 164,
   "metadata": {},
   "outputs": [],
   "source": [
    "%%capture output\n",
    "\n",
    "watchlist = [(dtrain, 'train'), (dval, 'val')]\n",
    "min_child_list = [5,10,15]\n",
    "for min_child in min_child_list:\n",
    "    xgb_params = {\n",
    "        'eta': 0.1, \n",
    "        'max_depth': 5,\n",
    "        'min_child_weight': min_child,\n",
    "        \n",
    "        'objective': 'binary:logistic',\n",
    "        'eval_metric': 'auc',\n",
    "\n",
    "        'nthread': 8,\n",
    "        'seed': 1,\n",
    "        'verbosity': 1,\n",
    "    }\n",
    "\n",
    "    xgb_model = xgb.train(xgb_params, dtrain, num_boost_round=num_boost_round,\n",
    "                verbose_eval=verbose_eval,\n",
    "                evals=watchlist)\n",
    "df_results = parse_xgb_output(output)\n",
    "   \n",
    "    # plt.legend()\n"
   ]
  },
  {
   "cell_type": "code",
   "execution_count": 165,
   "metadata": {},
   "outputs": [
    {
     "data": {
      "image/png": "[encoded data removed]",
      "text/plain": [
       "<Figure size 640x480 with 1 Axes>"
      ]
     },
     "metadata": {},
     "output_type": "display_data"
    }
   ],
   "source": [
    "   \n",
    "auc_plot(df_results, output_loop,'min_child_weight', min_child_list)"
   ]
  },
  {
   "cell_type": "markdown",
   "metadata": {},
   "source": [
    "min_child_weight = 5"
   ]
  },
  {
   "cell_type": "code",
   "execution_count": 166,
   "metadata": {},
   "outputs": [],
   "source": [
    "\n",
    "xgb_params = {\n",
    "    'eta': 0.1, \n",
    "    'max_depth': 5,\n",
    "    'min_child_weight': 5,\n",
    "    \n",
    "    'objective': 'binary:logistic',\n",
    "    'eval_metric': 'auc',\n",
    "\n",
    "    'nthread': 8,\n",
    "    'seed': 1,\n",
    "    'verbosity': 1,\n",
    "}\n",
    "\n",
    "xgb_model = xgb.train(xgb_params, dtrain, num_boost_round=200,\n",
    "            verbose_eval=5)"
   ]
  },
  {
   "cell_type": "code",
   "execution_count": 167,
   "metadata": {},
   "outputs": [],
   "source": [
    "xg_y_pred = xgb_model.predict(dval)\n",
    "df_model_auc['xg_boost'] = roc_auc_score(y_val,xg_y_pred)"
   ]
  },
  {
   "cell_type": "code",
   "execution_count": 168,
   "metadata": {},
   "outputs": [
    {
     "data": {
      "text/html": [
       "<div>\n",
       "<style scoped>\n",
       "    .dataframe tbody tr th:only-of-type {\n",
       "        vertical-align: middle;\n",
       "    }\n",
       "\n",
       "    .dataframe tbody tr th {\n",
       "        vertical-align: top;\n",
       "    }\n",
       "\n",
       "    .dataframe thead th {\n",
       "        text-align: right;\n",
       "    }\n",
       "</style>\n",
       "<table border=\"1\" class=\"dataframe\">\n",
       "  <thead>\n",
       "    <tr style=\"text-align: right;\">\n",
       "      <th></th>\n",
       "      <th>logistic_regression</th>\n",
       "      <th>decision_tree</th>\n",
       "      <th>random_forest</th>\n",
       "      <th>xg_boost</th>\n",
       "    </tr>\n",
       "  </thead>\n",
       "  <tbody>\n",
       "    <tr>\n",
       "      <th>AUC</th>\n",
       "      <td>0.681557</td>\n",
       "      <td>0.616967</td>\n",
       "      <td>0.605656</td>\n",
       "      <td>0.821148</td>\n",
       "    </tr>\n",
       "  </tbody>\n",
       "</table>\n",
       "</div>"
      ],
      "text/plain": [
       "     logistic_regression  decision_tree  random_forest  xg_boost\n",
       "AUC             0.681557       0.616967       0.605656  0.821148"
      ]
     },
     "execution_count": 168,
     "metadata": {},
     "output_type": "execute_result"
    }
   ],
   "source": [
    "pd.DataFrame(df_model_auc, index =['AUC'])"
   ]
  },
  {
   "cell_type": "markdown",
   "metadata": {},
   "source": [
    "It is a very easy decision. XGBoost outperforms the others. \n",
    "\n",
    "So let us test it on the test dataset to see if it is aligned or close to the auc score we got on the validation "
   ]
  },
  {
   "cell_type": "code",
   "execution_count": 169,
   "metadata": {},
   "outputs": [
    {
     "data": {
      "text/plain": [
       "0.7786077558804831"
      ]
     },
     "execution_count": 169,
     "metadata": {},
     "output_type": "execute_result"
    }
   ],
   "source": [
    "X_test = df_test.to_dict(orient='records')\n",
    "X_test = dv.transform(X_test)\n",
    "dtest = xgb.DMatrix(X_test, label = y_test, feature_names=features)\n",
    "xg_y_pred = xgb_model.predict(dtest)\n",
    "roc_auc_score(y_test,xg_y_pred)"
   ]
  },
  {
   "cell_type": "markdown",
   "metadata": {},
   "source": [
    "Now let's split the data into just training (80%) and testing (20%) and retrain/retest. "
   ]
  },
  {
   "cell_type": "code",
   "execution_count": 170,
   "metadata": {},
   "outputs": [],
   "source": [
    "df_train,df_test, y_train, y_test = train_test_split(df_features, y, test_size=0.2, random_state=1)\n",
    "dv = DictVectorizer(sparse=False)\n",
    "X_train = df_train.to_dict(orient='records')\n",
    "X_train = dv.fit_transform(X_train)\n",
    "X_test = df_test.to_dict(orient='records')\n",
    "X_test = dv.transform(X_test)"
   ]
  },
  {
   "cell_type": "code",
   "execution_count": 171,
   "metadata": {},
   "outputs": [],
   "source": [
    "dtrain = xgb.DMatrix(X_train,label = y_train,feature_names=features)\n",
    "dtest = xgb.DMatrix(X_test,label = y_test, feature_names=features)\n",
    "xgb_model = xgb.train(xgb_params, dtrain, num_boost_round=200,\n",
    "            verbose_eval=5)"
   ]
  },
  {
   "cell_type": "code",
   "execution_count": 114,
   "metadata": {},
   "outputs": [
    {
     "data": {
      "text/plain": [
       "0.8170660432495617"
      ]
     },
     "execution_count": 114,
     "metadata": {},
     "output_type": "execute_result"
    }
   ],
   "source": [
    "y_test_predict= xgb_model.predict(dtest)\n",
    "roc_auc_score(y_test,y_test_predict)"
   ]
  },
  {
   "cell_type": "code",
   "execution_count": 176,
   "metadata": {},
   "outputs": [],
   "source": [
    "with open('xgb_model_eta_depth_child_0.2_5_5','wb') as f:\n",
    "    pickle.dump((dv,xgb_model),f)"
   ]
  },
  {
   "cell_type": "code",
   "execution_count": 177,
   "metadata": {},
   "outputs": [],
   "source": [
    "with open('xgb_model_eta_depth_child_0.2_5_5','rb') as f:\n",
    "    load_dv, load_model = pickle.load(f)"
   ]
  },
  {
   "cell_type": "code",
   "execution_count": 178,
   "metadata": {},
   "outputs": [
    {
     "data": {
      "text/plain": [
       "0.8537414965986394"
      ]
     },
     "execution_count": 178,
     "metadata": {},
     "output_type": "execute_result"
    }
   ],
   "source": [
    "y_test_predict = (y_test_predict>0.5).astype('int')\n",
    "\n",
    "accuracy_score(y_test,y_test_predict)"
   ]
  },
  {
   "cell_type": "code",
   "execution_count": 232,
   "metadata": {},
   "outputs": [
    {
     "data": {
      "text/plain": [
       "array([0.04163079], dtype=float32)"
      ]
     },
     "execution_count": 232,
     "metadata": {},
     "output_type": "execute_result"
    }
   ],
   "source": [
    "d_employee = xgb.DMatrix([X_test[0]], feature_names=features)\n",
    "resign_prob = xgb_model.predict(d_employee)\n",
    "resign_prob"
   ]
  },
  {
   "cell_type": "code",
   "execution_count": 229,
   "metadata": {},
   "outputs": [],
   "source": [
    "g = json.loads(df_test.iloc[0].to_json())\n",
    "g = json.dumps(g, indent = 4)"
   ]
  },
  {
   "cell_type": "code",
   "execution_count": 230,
   "metadata": {},
   "outputs": [
    {
     "name": "stdout",
     "output_type": "stream",
     "text": [
      "{\n",
      "    \"Age\": 37,\n",
      "    \"BusinessTravel\": \"travel_rarely\",\n",
      "    \"DailyRate\": 370,\n",
      "    \"Department\": \"research_&_development\",\n",
      "    \"DistanceFromHome\": 10,\n",
      "    \"Education\": \"master\",\n",
      "    \"EducationField\": \"medical\",\n",
      "    \"EmployeeNumber\": 1809,\n",
      "    \"EnvironmentSatisfaction\": \"very_high\",\n",
      "    \"Gender\": \"male\",\n",
      "    \"HourlyRate\": 58,\n",
      "    \"JobInvolvement\": \"high\",\n",
      "    \"JobLevel\": 2,\n",
      "    \"JobRole\": \"manufacturing_director\",\n",
      "    \"JobSatisfaction\": \"low\",\n",
      "    \"MaritalStatus\": \"single\",\n",
      "    \"MonthlyIncome\": 4213,\n",
      "    \"MonthlyRate\": 4992,\n",
      "    \"NumCompaniesWorked\": 1,\n",
      "    \"OverTime\": \"no\",\n",
      "    \"PercentSalaryHike\": 15,\n",
      "    \"PerformanceRating\": \"excellent\",\n",
      "    \"RelationshipSatisfaction\": \"medium\",\n",
      "    \"StockOptionLevel\": 0,\n",
      "    \"TotalWorkingYears\": 10,\n",
      "    \"TrainingTimesLastYear\": 4,\n",
      "    \"WorkLifeBalance\": \"bad\",\n",
      "    \"YearsAtCompany\": 10,\n",
      "    \"YearsInCurrentRole\": 3,\n",
      "    \"YearsSinceLastPromotion\": 0,\n",
      "    \"YearsWithCurrManager\": 8\n",
      "}\n"
     ]
    }
   ],
   "source": [
    "print(g)"
   ]
  },
  {
   "cell_type": "markdown",
   "metadata": {},
   "source": [
    "* **Web app**: I will use flask to create an app that allows users to enter their details and find out the outcome: Resign/Not to resign\n",
    "\n"
   ]
  },
  {
   "cell_type": "markdown",
   "metadata": {},
   "source": [
    "* **Docker**: I will deploy the web app locally with Docker\n",
    "\n"
   ]
  },
  {
   "cell_type": "markdown",
   "metadata": {},
   "source": [
    "* **Cloud**: I will deploy the web on the cloud using AWS cloud services"
   ]
  }
 ],
 "metadata": {
  "kernelspec": {
   "display_name": "base",
   "language": "python",
   "name": "python3"
  },
  "language_info": {
   "codemirror_mode": {
    "name": "ipython",
    "version": 3
   },
   "file_extension": ".py",
   "mimetype": "text/x-python",
   "name": "python",
   "nbconvert_exporter": "python",
   "pygments_lexer": "ipython3",
   "version": "3.10.9"
  },
  "orig_nbformat": 4
 },
 "nbformat": 4,
 "nbformat_minor": 2
}
